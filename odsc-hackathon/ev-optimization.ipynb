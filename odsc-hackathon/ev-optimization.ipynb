{
 "cells": [
  {
   "cell_type": "markdown",
   "metadata": {},
   "source": [
    "# Improving Efficiency & Production Process of Electric Vehicles using Data Science Techniques"
   ]
  },
  {
   "cell_type": "markdown",
   "metadata": {},
   "source": [
    "This challenge has been designed to provide with you hands-on understanding of data science problems in commercial EVs’ production and optimization in most advanced motor technologies used by companies like Tesla, BMW and Ford. \n",
    "\n",
    "It is often a challenging and complex task to measure rotor and stator temperatures in commercial electric vehicles. Even if these specific tasks can be completed successfully, these testing processes cannot be classified as economical for manufacturers. Keeping in mind that the temperature data have significant importance on dynamical responses of vehicles and motors’ performances, there is an emerging need for new proposals and scientific contributions in this domain.\n",
    "\n",
    "Consider, one manufacturer of electric cars hired you to propose an estimator for the stator and rotor temperatures and design a predictive machine learning or deep learning model. Such a model could significantly help your new company to utilize new control strategies of the motors and maximize their operational performances. If you build an accurate ML/DL model, the needs of the company for implementing additional temperature sensors in vehicles will be reduced. The potential contribution will directly result in lowering car construction and maintenance costs, and will convince the company to invest further in hiring DS experts like you."
   ]
  },
  {
   "cell_type": "markdown",
   "metadata": {},
   "source": [
    "## Import Libraries"
   ]
  },
  {
   "cell_type": "code",
   "execution_count": 1,
   "metadata": {
    "_cell_guid": "b1076dfc-b9ad-4769-8c92-a6c4dae69d19",
    "_uuid": "8f2839f25d086af736a60e9eeb907d3b93b6e0e5"
   },
   "outputs": [
    {
     "data": {
      "text/html": [
       "        <script type=\"text/javascript\">\n",
       "        window.PlotlyConfig = {MathJaxConfig: 'local'};\n",
       "        if (window.MathJax) {MathJax.Hub.Config({SVG: {font: \"STIX-Web\"}});}\n",
       "        if (typeof require !== 'undefined') {\n",
       "        require.undef(\"plotly\");\n",
       "        requirejs.config({\n",
       "            paths: {\n",
       "                'plotly': ['https://cdn.plot.ly/plotly-latest.min']\n",
       "            }\n",
       "        });\n",
       "        require(['plotly'], function(Plotly) {\n",
       "            window._Plotly = Plotly;\n",
       "        });\n",
       "        }\n",
       "        </script>\n",
       "        "
      ]
     },
     "metadata": {},
     "output_type": "display_data"
    }
   ],
   "source": [
    "import pandas as pd\n",
    "import numpy as np\n",
    "import seaborn as sns\n",
    "import matplotlib as plt\n",
    "%matplotlib inline\n",
    "\n",
    "import plotly.offline as py\n",
    "py.init_notebook_mode(connected=True)\n",
    "import plotly.graph_objs as go\n",
    "import plotly.tools as tls\n",
    "import plotly.figure_factory as ff\n",
    "\n",
    "from sklearn.model_selection import train_test_split\n",
    "from sklearn.multioutput import MultiOutputRegressor\n",
    "from sklearn.metrics import r2_score\n",
    "from sklearn.metrics import mean_squared_error\n",
    "from sklearn.model_selection import RandomizedSearchCV, GridSearchCV\n",
    "\n",
    "from scipy.stats import norm, skew #for some statistics\n",
    "\n",
    "import xgboost"
   ]
  },
  {
   "cell_type": "code",
   "execution_count": 2,
   "metadata": {
    "_cell_guid": "79c7e3d0-c299-4dcb-8224-4455121ee9b0",
    "_uuid": "d629ff2d2480ee46fbb7e2d37f6b5fab8052498a"
   },
   "outputs": [],
   "source": [
    "train_df=pd.read_csv(\"train_set.csv\")\n",
    "test_df=pd.read_csv(\"test_set.csv\")\n",
    "test_true=pd.read_csv(\"test_solutions.csv\")"
   ]
  },
  {
   "cell_type": "code",
   "execution_count": 3,
   "metadata": {},
   "outputs": [
    {
     "data": {
      "text/plain": [
       "(846368, 13)"
      ]
     },
     "execution_count": 3,
     "metadata": {},
     "output_type": "execute_result"
    }
   ],
   "source": [
    "train_df.shape\n",
    "#test_df.shape"
   ]
  },
  {
   "cell_type": "code",
   "execution_count": 4,
   "metadata": {},
   "outputs": [
    {
     "data": {
      "text/plain": [
       "ambient           0\n",
       "coolant           0\n",
       "u_d               0\n",
       "u_q               0\n",
       "motor_speed       0\n",
       "torque            0\n",
       "i_d               0\n",
       "i_q               0\n",
       "pm                0\n",
       "stator_yoke       0\n",
       "stator_tooth      0\n",
       "stator_winding    0\n",
       "profile_id        0\n",
       "dtype: int64"
      ]
     },
     "execution_count": 4,
     "metadata": {},
     "output_type": "execute_result"
    }
   ],
   "source": [
    "#check for nan values\n",
    "train_df.isnull().sum()"
   ]
  },
  {
   "cell_type": "code",
   "execution_count": 5,
   "metadata": {},
   "outputs": [
    {
     "data": {
      "text/plain": [
       "20    43970\n",
       "6     40387\n",
       "65    40093\n",
       "66    36475\n",
       "27    35360\n",
       "4     33423\n",
       "58    33381\n",
       "56    33122\n",
       "53    32441\n",
       "79    31153\n",
       "44    26340\n",
       "70    25676\n",
       "30    23862\n",
       "80    23823\n",
       "74    23760\n",
       "68    23330\n",
       "36    22608\n",
       "76    22187\n",
       "48    21982\n",
       "29    21357\n",
       "81    17671\n",
       "45    17141\n",
       "63    16667\n",
       "69    15349\n",
       "72    15300\n",
       "10    15255\n",
       "77    14621\n",
       "60    14542\n",
       "57    14402\n",
       "75    13471\n",
       "67    11134\n",
       "49    10815\n",
       "50    10809\n",
       "55    10806\n",
       "54    10806\n",
       "78     8444\n",
       "43     8442\n",
       "11     7886\n",
       "59     7474\n",
       "64     6249\n",
       "46     2179\n",
       "47     2175\n",
       "Name: profile_id, dtype: int64"
      ]
     },
     "execution_count": 5,
     "metadata": {},
     "output_type": "execute_result"
    }
   ],
   "source": [
    "train_df['profile_id'].value_counts()"
   ]
  },
  {
   "cell_type": "code",
   "execution_count": 6,
   "metadata": {},
   "outputs": [],
   "source": [
    "train_df.drop(labels=['profile_id'],axis=1,inplace=True)\n"
   ]
  },
  {
   "cell_type": "markdown",
   "metadata": {},
   "source": [
    "## Distribution Plots"
   ]
  },
  {
   "cell_type": "code",
   "execution_count": 7,
   "metadata": {},
   "outputs": [],
   "source": [
    "test_df_temp=pd.concat([test_df,test_true],axis=1)"
   ]
  },
  {
   "cell_type": "code",
   "execution_count": 8,
   "metadata": {},
   "outputs": [
    {
     "data": {
      "text/plain": [
       "array([[<matplotlib.axes._subplots.AxesSubplot object at 0x7f0542a8e9d0>,\n",
       "        <matplotlib.axes._subplots.AxesSubplot object at 0x7f054183b4d0>,\n",
       "        <matplotlib.axes._subplots.AxesSubplot object at 0x7f05417f4b50>],\n",
       "       [<matplotlib.axes._subplots.AxesSubplot object at 0x7f05417b5210>,\n",
       "        <matplotlib.axes._subplots.AxesSubplot object at 0x7f054176b890>,\n",
       "        <matplotlib.axes._subplots.AxesSubplot object at 0x7f054171ff10>],\n",
       "       [<matplotlib.axes._subplots.AxesSubplot object at 0x7f05416e2650>,\n",
       "        <matplotlib.axes._subplots.AxesSubplot object at 0x7f0541863d50>,\n",
       "        <matplotlib.axes._subplots.AxesSubplot object at 0x7f0541863a90>],\n",
       "       [<matplotlib.axes._subplots.AxesSubplot object at 0x7f0541716bd0>,\n",
       "        <matplotlib.axes._subplots.AxesSubplot object at 0x7f0541643810>,\n",
       "        <matplotlib.axes._subplots.AxesSubplot object at 0x7f05415f8e90>]],\n",
       "      dtype=object)"
      ]
     },
     "execution_count": 8,
     "metadata": {},
     "output_type": "execute_result"
    },
    {
     "data": {
      "image/png": "[encoded data removed]",
      "text/plain": [
       "<Figure size 1008x1152 with 12 Axes>"
      ]
     },
     "metadata": {
      "needs_background": "light"
     },
     "output_type": "display_data"
    }
   ],
   "source": [
    "#Distribution plots of train dataset\n",
    "n= len(train_df.columns)\n",
    "   \n",
    "train_df.hist(figsize= (14,16))"
   ]
  },
  {
   "cell_type": "code",
   "execution_count": 9,
   "metadata": {},
   "outputs": [
    {
     "data": {
      "text/plain": [
       "array([[<matplotlib.axes._subplots.AxesSubplot object at 0x7f0541218790>,\n",
       "        <matplotlib.axes._subplots.AxesSubplot object at 0x7f05411a9dd0>,\n",
       "        <matplotlib.axes._subplots.AxesSubplot object at 0x7f05411d4190>],\n",
       "       [<matplotlib.axes._subplots.AxesSubplot object at 0x7f0541188710>,\n",
       "        <matplotlib.axes._subplots.AxesSubplot object at 0x7f054113cc90>,\n",
       "        <matplotlib.axes._subplots.AxesSubplot object at 0x7f05410ff250>],\n",
       "       [<matplotlib.axes._subplots.AxesSubplot object at 0x7f05410b4850>,\n",
       "        <matplotlib.axes._subplots.AxesSubplot object at 0x7f0541068d10>,\n",
       "        <matplotlib.axes._subplots.AxesSubplot object at 0x7f0541068d50>],\n",
       "       [<matplotlib.axes._subplots.AxesSubplot object at 0x7f054102c410>,\n",
       "        <matplotlib.axes._subplots.AxesSubplot object at 0x7f0541019e10>,\n",
       "        <matplotlib.axes._subplots.AxesSubplot object at 0x7f0540f5c3d0>]],\n",
       "      dtype=object)"
      ]
     },
     "execution_count": 9,
     "metadata": {},
     "output_type": "execute_result"
    },
    {
     "data": {
      "image/png": "[encoded data removed]",
      "text/plain": [
       "<Figure size 1008x1152 with 12 Axes>"
      ]
     },
     "metadata": {
      "needs_background": "light"
     },
     "output_type": "display_data"
    }
   ],
   "source": [
    "#distribution plot of test dataset\n",
    "test_df_temp.hist(figsize= (14,16))    "
   ]
  },
  {
   "cell_type": "markdown",
   "metadata": {},
   "source": [
    "## Check for skewness"
   ]
  },
  {
   "cell_type": "code",
   "execution_count": 10,
   "metadata": {},
   "outputs": [
    {
     "name": "stdout",
     "output_type": "stream",
     "text": [
      "\n",
      "Skew in numerical features: \n",
      "\n"
     ]
    },
    {
     "data": {
      "text/html": [
       "<div>\n",
       "<style scoped>\n",
       "    .dataframe tbody tr th:only-of-type {\n",
       "        vertical-align: middle;\n",
       "    }\n",
       "\n",
       "    .dataframe tbody tr th {\n",
       "        vertical-align: top;\n",
       "    }\n",
       "\n",
       "    .dataframe thead th {\n",
       "        text-align: right;\n",
       "    }\n",
       "</style>\n",
       "<table border=\"1\" class=\"dataframe\">\n",
       "  <thead>\n",
       "    <tr style=\"text-align: right;\">\n",
       "      <th></th>\n",
       "      <th>Skew</th>\n",
       "    </tr>\n",
       "  </thead>\n",
       "  <tbody>\n",
       "    <tr>\n",
       "      <th>coolant</th>\n",
       "      <td>0.591946</td>\n",
       "    </tr>\n",
       "    <tr>\n",
       "      <th>motor_speed</th>\n",
       "      <td>0.351135</td>\n",
       "    </tr>\n",
       "    <tr>\n",
       "      <th>stator_yoke</th>\n",
       "      <td>0.222259</td>\n",
       "    </tr>\n",
       "    <tr>\n",
       "      <th>u_q</th>\n",
       "      <td>0.182180</td>\n",
       "    </tr>\n",
       "    <tr>\n",
       "      <th>u_d</th>\n",
       "      <td>0.163064</td>\n",
       "    </tr>\n",
       "    <tr>\n",
       "      <th>torque</th>\n",
       "      <td>0.021879</td>\n",
       "    </tr>\n",
       "    <tr>\n",
       "      <th>i_q</th>\n",
       "      <td>-0.014694</td>\n",
       "    </tr>\n",
       "    <tr>\n",
       "      <th>stator_winding</th>\n",
       "      <td>-0.039838</td>\n",
       "    </tr>\n",
       "    <tr>\n",
       "      <th>stator_tooth</th>\n",
       "      <td>-0.076183</td>\n",
       "    </tr>\n",
       "    <tr>\n",
       "      <th>pm</th>\n",
       "      <td>-0.214174</td>\n",
       "    </tr>\n",
       "  </tbody>\n",
       "</table>\n",
       "</div>"
      ],
      "text/plain": [
       "                    Skew\n",
       "coolant         0.591946\n",
       "motor_speed     0.351135\n",
       "stator_yoke     0.222259\n",
       "u_q             0.182180\n",
       "u_d             0.163064\n",
       "torque          0.021879\n",
       "i_q            -0.014694\n",
       "stator_winding -0.039838\n",
       "stator_tooth   -0.076183\n",
       "pm             -0.214174"
      ]
     },
     "execution_count": 10,
     "metadata": {},
     "output_type": "execute_result"
    }
   ],
   "source": [
    "numeric_feats = train_df.dtypes[train_df.dtypes != \"object\"].index\n",
    "\n",
    "# Check the skew of all numerical features\n",
    "skewed_feats = train_df[numeric_feats].apply(lambda x: skew(x.dropna())).sort_values(ascending=False)\n",
    "print(\"\\nSkew in numerical features: \\n\")\n",
    "skewness = pd.DataFrame({'Skew' :skewed_feats})\n",
    "skewness.head(10)"
   ]
  },
  {
   "cell_type": "code",
   "execution_count": null,
   "metadata": {},
   "outputs": [],
   "source": []
  },
  {
   "cell_type": "code",
   "execution_count": null,
   "metadata": {},
   "outputs": [],
   "source": []
  },
  {
   "cell_type": "markdown",
   "metadata": {},
   "source": [
    "## Train/Validation split"
   ]
  },
  {
   "cell_type": "code",
   "execution_count": 11,
   "metadata": {},
   "outputs": [],
   "source": [
    "test_temp,train_temp=train_test_split(test_df_temp,test_size=0.3,shuffle=True, random_state=1)"
   ]
  },
  {
   "cell_type": "code",
   "execution_count": 12,
   "metadata": {},
   "outputs": [],
   "source": [
    "test_temp,val_temp=train_test_split(test_temp,test_size=0.4,shuffle=True, random_state=1)"
   ]
  },
  {
   "cell_type": "code",
   "execution_count": 13,
   "metadata": {},
   "outputs": [
    {
     "data": {
      "text/plain": [
       "(21399, 12)"
      ]
     },
     "execution_count": 13,
     "metadata": {},
     "output_type": "execute_result"
    }
   ],
   "source": [
    "val_temp.shape"
   ]
  },
  {
   "cell_type": "code",
   "execution_count": 14,
   "metadata": {},
   "outputs": [],
   "source": [
    "train_df=pd.concat([train_df,train_temp])"
   ]
  },
  {
   "cell_type": "code",
   "execution_count": 15,
   "metadata": {},
   "outputs": [
    {
     "data": {
      "text/plain": [
       "(869295, 12)"
      ]
     },
     "execution_count": 15,
     "metadata": {},
     "output_type": "execute_result"
    }
   ],
   "source": [
    "train_df.shape"
   ]
  },
  {
   "cell_type": "code",
   "execution_count": 16,
   "metadata": {},
   "outputs": [
    {
     "data": {
      "text/plain": [
       "array([[<matplotlib.axes._subplots.AxesSubplot object at 0x7f0541848fd0>,\n",
       "        <matplotlib.axes._subplots.AxesSubplot object at 0x7f05412c2550>,\n",
       "        <matplotlib.axes._subplots.AxesSubplot object at 0x7f05412cbe10>],\n",
       "       [<matplotlib.axes._subplots.AxesSubplot object at 0x7f0540ca4150>,\n",
       "        <matplotlib.axes._subplots.AxesSubplot object at 0x7f0540cfbd10>,\n",
       "        <matplotlib.axes._subplots.AxesSubplot object at 0x7f0540a9f890>],\n",
       "       [<matplotlib.axes._subplots.AxesSubplot object at 0x7f0540ad5f90>,\n",
       "        <matplotlib.axes._subplots.AxesSubplot object at 0x7f0540a97590>,\n",
       "        <matplotlib.axes._subplots.AxesSubplot object at 0x7f0540a975d0>],\n",
       "       [<matplotlib.axes._subplots.AxesSubplot object at 0x7f0540a4dd50>,\n",
       "        <matplotlib.axes._subplots.AxesSubplot object at 0x7f05409c48d0>,\n",
       "        <matplotlib.axes._subplots.AxesSubplot object at 0x7f054097af50>]],\n",
       "      dtype=object)"
      ]
     },
     "execution_count": 16,
     "metadata": {},
     "output_type": "execute_result"
    },
    {
     "data": {
      "image/png": "[encoded data removed]",
      "text/plain": [
       "<Figure size 1008x1152 with 12 Axes>"
      ]
     },
     "metadata": {
      "needs_background": "light"
     },
     "output_type": "display_data"
    }
   ],
   "source": [
    "train_df.hist(figsize= (14,16))"
   ]
  },
  {
   "cell_type": "code",
   "execution_count": null,
   "metadata": {},
   "outputs": [],
   "source": []
  },
  {
   "cell_type": "code",
   "execution_count": null,
   "metadata": {},
   "outputs": [],
   "source": []
  },
  {
   "cell_type": "markdown",
   "metadata": {},
   "source": [
    "## Correlation plot"
   ]
  },
  {
   "cell_type": "code",
   "execution_count": 17,
   "metadata": {},
   "outputs": [
    {
     "data": {
      "text/plain": [
       "<matplotlib.axes._subplots.AxesSubplot at 0x7f05412f1c90>"
      ]
     },
     "execution_count": 17,
     "metadata": {},
     "output_type": "execute_result"
    },
    {
     "data": {
      "image/png": "[encoded data removed]",
      "text/plain": [
       "<Figure size 1008x432 with 2 Axes>"
      ]
     },
     "metadata": {
      "needs_background": "light"
     },
     "output_type": "display_data"
    }
   ],
   "source": [
    "#training dataset\n",
    "plt.pyplot.figure(figsize=(14,6))\n",
    "correlation_matrix=np.tril(train_df.corr())\n",
    "sns.heatmap(train_df.corr(),annot=True,fmt='.2g' ,mask=correlation_matrix)"
   ]
  },
  {
   "cell_type": "code",
   "execution_count": 18,
   "metadata": {},
   "outputs": [
    {
     "data": {
      "text/plain": [
       "<matplotlib.axes._subplots.AxesSubplot at 0x7f0540543d10>"
      ]
     },
     "execution_count": 18,
     "metadata": {},
     "output_type": "execute_result"
    },
    {
     "data": {
      "image/png": "[encoded data removed]",
      "text/plain": [
       "<Figure size 1008x432 with 2 Axes>"
      ]
     },
     "metadata": {
      "needs_background": "light"
     },
     "output_type": "display_data"
    }
   ],
   "source": [
    "#test dataset\n",
    "plt.pyplot.figure(figsize=(14,6))\n",
    "correlation_matrix_test=np.tril(test_df_temp.corr())\n",
    "sns.heatmap(test_df_temp.corr(),annot=True,fmt='.2g' ,mask=correlation_matrix_test)"
   ]
  },
  {
   "cell_type": "markdown",
   "metadata": {},
   "source": [
    "## Deal With Multicollinearity"
   ]
  },
  {
   "cell_type": "code",
   "execution_count": 19,
   "metadata": {},
   "outputs": [],
   "source": [
    "train_df.drop(labels=['torque'],axis=1,inplace=True)\n",
    "val_temp.drop(labels=['torque'],axis=1,inplace=True)\n",
    "test_df.drop(labels=['torque'],axis=1,inplace=True)\n",
    "\n"
   ]
  },
  {
   "cell_type": "code",
   "execution_count": 20,
   "metadata": {},
   "outputs": [
    {
     "data": {
      "text/html": [
       "<div>\n",
       "<style scoped>\n",
       "    .dataframe tbody tr th:only-of-type {\n",
       "        vertical-align: middle;\n",
       "    }\n",
       "\n",
       "    .dataframe tbody tr th {\n",
       "        vertical-align: top;\n",
       "    }\n",
       "\n",
       "    .dataframe thead th {\n",
       "        text-align: right;\n",
       "    }\n",
       "</style>\n",
       "<table border=\"1\" class=\"dataframe\">\n",
       "  <thead>\n",
       "    <tr style=\"text-align: right;\">\n",
       "      <th></th>\n",
       "      <th>ambient</th>\n",
       "      <th>coolant</th>\n",
       "      <th>u_d</th>\n",
       "      <th>u_q</th>\n",
       "      <th>motor_speed</th>\n",
       "      <th>i_d</th>\n",
       "      <th>i_q</th>\n",
       "      <th>pm</th>\n",
       "      <th>stator_yoke</th>\n",
       "      <th>stator_tooth</th>\n",
       "      <th>stator_winding</th>\n",
       "    </tr>\n",
       "  </thead>\n",
       "  <tbody>\n",
       "    <tr>\n",
       "      <th>0</th>\n",
       "      <td>-0.752143</td>\n",
       "      <td>-1.118446</td>\n",
       "      <td>0.327935</td>\n",
       "      <td>-1.297858</td>\n",
       "      <td>-1.222428</td>\n",
       "      <td>1.029572</td>\n",
       "      <td>-0.245860</td>\n",
       "      <td>-2.522071</td>\n",
       "      <td>-1.831422</td>\n",
       "      <td>-2.066143</td>\n",
       "      <td>-2.018033</td>\n",
       "    </tr>\n",
       "    <tr>\n",
       "      <th>1</th>\n",
       "      <td>-0.771263</td>\n",
       "      <td>-1.117021</td>\n",
       "      <td>0.329665</td>\n",
       "      <td>-1.297686</td>\n",
       "      <td>-1.222429</td>\n",
       "      <td>1.029509</td>\n",
       "      <td>-0.245832</td>\n",
       "      <td>-2.522418</td>\n",
       "      <td>-1.830969</td>\n",
       "      <td>-2.064859</td>\n",
       "      <td>-2.017631</td>\n",
       "    </tr>\n",
       "    <tr>\n",
       "      <th>2</th>\n",
       "      <td>-0.782892</td>\n",
       "      <td>-1.116681</td>\n",
       "      <td>0.332771</td>\n",
       "      <td>-1.301822</td>\n",
       "      <td>-1.222428</td>\n",
       "      <td>1.029448</td>\n",
       "      <td>-0.245818</td>\n",
       "      <td>-2.522673</td>\n",
       "      <td>-1.830400</td>\n",
       "      <td>-2.064073</td>\n",
       "      <td>-2.017343</td>\n",
       "    </tr>\n",
       "    <tr>\n",
       "      <th>3</th>\n",
       "      <td>-0.780935</td>\n",
       "      <td>-1.116764</td>\n",
       "      <td>0.333700</td>\n",
       "      <td>-1.301852</td>\n",
       "      <td>-1.222430</td>\n",
       "      <td>1.032845</td>\n",
       "      <td>-0.246955</td>\n",
       "      <td>-2.521639</td>\n",
       "      <td>-1.830333</td>\n",
       "      <td>-2.063137</td>\n",
       "      <td>-2.017632</td>\n",
       "    </tr>\n",
       "    <tr>\n",
       "      <th>4</th>\n",
       "      <td>-0.774043</td>\n",
       "      <td>-1.116775</td>\n",
       "      <td>0.335206</td>\n",
       "      <td>-1.303118</td>\n",
       "      <td>-1.222429</td>\n",
       "      <td>1.031807</td>\n",
       "      <td>-0.246610</td>\n",
       "      <td>-2.521900</td>\n",
       "      <td>-1.830498</td>\n",
       "      <td>-2.062795</td>\n",
       "      <td>-2.018145</td>\n",
       "    </tr>\n",
       "    <tr>\n",
       "      <th>...</th>\n",
       "      <td>...</td>\n",
       "      <td>...</td>\n",
       "      <td>...</td>\n",
       "      <td>...</td>\n",
       "      <td>...</td>\n",
       "      <td>...</td>\n",
       "      <td>...</td>\n",
       "      <td>...</td>\n",
       "      <td>...</td>\n",
       "      <td>...</td>\n",
       "      <td>...</td>\n",
       "    </tr>\n",
       "    <tr>\n",
       "      <th>11195</th>\n",
       "      <td>-1.168872</td>\n",
       "      <td>-1.050427</td>\n",
       "      <td>-1.115377</td>\n",
       "      <td>0.792591</td>\n",
       "      <td>0.941938</td>\n",
       "      <td>-0.769302</td>\n",
       "      <td>0.447383</td>\n",
       "      <td>0.110786</td>\n",
       "      <td>-0.785166</td>\n",
       "      <td>-0.517548</td>\n",
       "      <td>-0.398468</td>\n",
       "    </tr>\n",
       "    <tr>\n",
       "      <th>75555</th>\n",
       "      <td>0.688486</td>\n",
       "      <td>1.167703</td>\n",
       "      <td>2.097396</td>\n",
       "      <td>-0.033507</td>\n",
       "      <td>0.394496</td>\n",
       "      <td>-0.934021</td>\n",
       "      <td>-1.695368</td>\n",
       "      <td>1.080125</td>\n",
       "      <td>1.030856</td>\n",
       "      <td>0.910100</td>\n",
       "      <td>0.688163</td>\n",
       "    </tr>\n",
       "    <tr>\n",
       "      <th>56196</th>\n",
       "      <td>0.681706</td>\n",
       "      <td>-0.578425</td>\n",
       "      <td>-0.322072</td>\n",
       "      <td>1.594412</td>\n",
       "      <td>0.671393</td>\n",
       "      <td>0.178584</td>\n",
       "      <td>0.082054</td>\n",
       "      <td>-1.275169</td>\n",
       "      <td>-0.885058</td>\n",
       "      <td>-0.978530</td>\n",
       "      <td>-1.080349</td>\n",
       "    </tr>\n",
       "    <tr>\n",
       "      <th>35929</th>\n",
       "      <td>-0.814940</td>\n",
       "      <td>-1.049214</td>\n",
       "      <td>-1.599150</td>\n",
       "      <td>-0.586802</td>\n",
       "      <td>0.856992</td>\n",
       "      <td>-1.910549</td>\n",
       "      <td>0.798512</td>\n",
       "      <td>0.328817</td>\n",
       "      <td>-0.224949</td>\n",
       "      <td>0.398125</td>\n",
       "      <td>0.905600</td>\n",
       "    </tr>\n",
       "    <tr>\n",
       "      <th>49349</th>\n",
       "      <td>-0.089853</td>\n",
       "      <td>-0.844995</td>\n",
       "      <td>-0.657082</td>\n",
       "      <td>-0.499614</td>\n",
       "      <td>-0.681339</td>\n",
       "      <td>-0.476580</td>\n",
       "      <td>2.013809</td>\n",
       "      <td>0.424353</td>\n",
       "      <td>-0.121382</td>\n",
       "      <td>0.263549</td>\n",
       "      <td>0.638235</td>\n",
       "    </tr>\n",
       "  </tbody>\n",
       "</table>\n",
       "<p>869295 rows × 11 columns</p>\n",
       "</div>"
      ],
      "text/plain": [
       "        ambient   coolant       u_d       u_q  motor_speed       i_d  \\\n",
       "0     -0.752143 -1.118446  0.327935 -1.297858    -1.222428  1.029572   \n",
       "1     -0.771263 -1.117021  0.329665 -1.297686    -1.222429  1.029509   \n",
       "2     -0.782892 -1.116681  0.332771 -1.301822    -1.222428  1.029448   \n",
       "3     -0.780935 -1.116764  0.333700 -1.301852    -1.222430  1.032845   \n",
       "4     -0.774043 -1.116775  0.335206 -1.303118    -1.222429  1.031807   \n",
       "...         ...       ...       ...       ...          ...       ...   \n",
       "11195 -1.168872 -1.050427 -1.115377  0.792591     0.941938 -0.769302   \n",
       "75555  0.688486  1.167703  2.097396 -0.033507     0.394496 -0.934021   \n",
       "56196  0.681706 -0.578425 -0.322072  1.594412     0.671393  0.178584   \n",
       "35929 -0.814940 -1.049214 -1.599150 -0.586802     0.856992 -1.910549   \n",
       "49349 -0.089853 -0.844995 -0.657082 -0.499614    -0.681339 -0.476580   \n",
       "\n",
       "            i_q        pm  stator_yoke  stator_tooth  stator_winding  \n",
       "0     -0.245860 -2.522071    -1.831422     -2.066143       -2.018033  \n",
       "1     -0.245832 -2.522418    -1.830969     -2.064859       -2.017631  \n",
       "2     -0.245818 -2.522673    -1.830400     -2.064073       -2.017343  \n",
       "3     -0.246955 -2.521639    -1.830333     -2.063137       -2.017632  \n",
       "4     -0.246610 -2.521900    -1.830498     -2.062795       -2.018145  \n",
       "...         ...       ...          ...           ...             ...  \n",
       "11195  0.447383  0.110786    -0.785166     -0.517548       -0.398468  \n",
       "75555 -1.695368  1.080125     1.030856      0.910100        0.688163  \n",
       "56196  0.082054 -1.275169    -0.885058     -0.978530       -1.080349  \n",
       "35929  0.798512  0.328817    -0.224949      0.398125        0.905600  \n",
       "49349  2.013809  0.424353    -0.121382      0.263549        0.638235  \n",
       "\n",
       "[869295 rows x 11 columns]"
      ]
     },
     "execution_count": 20,
     "metadata": {},
     "output_type": "execute_result"
    }
   ],
   "source": [
    "train_df"
   ]
  },
  {
   "cell_type": "markdown",
   "metadata": {},
   "source": []
  },
  {
   "cell_type": "code",
   "execution_count": 21,
   "metadata": {},
   "outputs": [],
   "source": [
    "##X,Y variables\n",
    "X_train=train_df.drop(labels=['pm','stator_yoke','stator_tooth','stator_winding'],axis=1)\n",
    "y_train = train_df[['pm','stator_yoke','stator_tooth','stator_winding']]\n",
    "X_val=val_temp.drop(labels=['pm','stator_yoke','stator_tooth','stator_winding'],axis=1)\n",
    "y_val=val_temp[['pm','stator_yoke','stator_tooth','stator_winding']]\n"
   ]
  },
  {
   "cell_type": "code",
   "execution_count": 22,
   "metadata": {},
   "outputs": [],
   "source": [
    "#X_train,X_val,y_train,y_val=train_test_split(train_df.drop(labels=['pm','stator_yoke','stator_tooth','stator_winding'],axis=1),\n",
    "#                                             train_df[['pm','stator_yoke','stator_tooth','stator_winding']],\n",
    "#                                             test_size=0.1,random_state=1)\n"
   ]
  },
  {
   "cell_type": "code",
   "execution_count": 23,
   "metadata": {},
   "outputs": [
    {
     "data": {
      "text/plain": [
       "(869295, 7)"
      ]
     },
     "execution_count": 23,
     "metadata": {},
     "output_type": "execute_result"
    }
   ],
   "source": [
    "X_train.shape"
   ]
  },
  {
   "cell_type": "code",
   "execution_count": 24,
   "metadata": {},
   "outputs": [
    {
     "data": {
      "text/plain": [
       "(21399, 7)"
      ]
     },
     "execution_count": 24,
     "metadata": {},
     "output_type": "execute_result"
    }
   ],
   "source": [
    "X_val.shape"
   ]
  },
  {
   "cell_type": "code",
   "execution_count": 25,
   "metadata": {},
   "outputs": [
    {
     "data": {
      "text/plain": [
       "0       -2.522071\n",
       "1       -2.522418\n",
       "2       -2.522673\n",
       "3       -2.521639\n",
       "4       -2.521900\n",
       "           ...   \n",
       "11195    0.110786\n",
       "75555    1.080125\n",
       "56196   -1.275169\n",
       "35929    0.328817\n",
       "49349    0.424353\n",
       "Name: pm, Length: 869295, dtype: float64"
      ]
     },
     "execution_count": 25,
     "metadata": {},
     "output_type": "execute_result"
    }
   ],
   "source": [
    "y_train.iloc[:,0]"
   ]
  },
  {
   "cell_type": "markdown",
   "metadata": {},
   "source": [
    "## Base XGBoost Model to predict multi dimensional output"
   ]
  },
  {
   "cell_type": "code",
   "execution_count": 26,
   "metadata": {},
   "outputs": [],
   "source": [
    "# define base xgboost model\n",
    "XGBmodel = xgboost.XGBRegressor(max_depth=3,n_estimators=500,gamma=0.01, min_child_weight=1)\n",
    "\n",
    "# define the direct multioutput wrapper model\n",
    "XGB_wrapper=MultiOutputRegressor(XGBmodel)"
   ]
  },
  {
   "cell_type": "code",
   "execution_count": 27,
   "metadata": {},
   "outputs": [
    {
     "data": {
      "text/plain": [
       "MultiOutputRegressor(estimator=XGBRegressor(base_score=None, booster=None,\n",
       "                                            colsample_bylevel=None,\n",
       "                                            colsample_bynode=None,\n",
       "                                            colsample_bytree=None, gamma=0.01,\n",
       "                                            gpu_id=None, importance_type='gain',\n",
       "                                            interaction_constraints=None,\n",
       "                                            learning_rate=None,\n",
       "                                            max_delta_step=None, max_depth=3,\n",
       "                                            min_child_weight=1, missing=nan,\n",
       "                                            monotone_constraints=None,\n",
       "                                            n_estimators=500, n_jobs=None,\n",
       "                                            num_parallel_tree=None,\n",
       "                                            random_state=None, reg_alpha=None,\n",
       "                                            reg_lambda=None,\n",
       "                                            scale_pos_weight=None,\n",
       "                                            subsample=None, tree_method=None,\n",
       "                                            validate_parameters=None,\n",
       "                                            verbosity=None))"
      ]
     },
     "execution_count": 27,
     "metadata": {},
     "output_type": "execute_result"
    }
   ],
   "source": [
    "#fit the basic model\n",
    "XGB_wrapper.fit(X_train, y_train)"
   ]
  },
  {
   "cell_type": "code",
   "execution_count": 28,
   "metadata": {},
   "outputs": [
    {
     "data": {
      "text/html": [
       "<div>\n",
       "<style scoped>\n",
       "    .dataframe tbody tr th:only-of-type {\n",
       "        vertical-align: middle;\n",
       "    }\n",
       "\n",
       "    .dataframe tbody tr th {\n",
       "        vertical-align: top;\n",
       "    }\n",
       "\n",
       "    .dataframe thead th {\n",
       "        text-align: right;\n",
       "    }\n",
       "</style>\n",
       "<table border=\"1\" class=\"dataframe\">\n",
       "  <thead>\n",
       "    <tr style=\"text-align: right;\">\n",
       "      <th></th>\n",
       "      <th>ambient</th>\n",
       "      <th>coolant</th>\n",
       "      <th>u_d</th>\n",
       "      <th>u_q</th>\n",
       "      <th>motor_speed</th>\n",
       "      <th>i_d</th>\n",
       "      <th>i_q</th>\n",
       "    </tr>\n",
       "  </thead>\n",
       "  <tbody>\n",
       "    <tr>\n",
       "      <th>0</th>\n",
       "      <td>-0.752143</td>\n",
       "      <td>-1.118446</td>\n",
       "      <td>0.327935</td>\n",
       "      <td>-1.297858</td>\n",
       "      <td>-1.222428</td>\n",
       "      <td>1.029572</td>\n",
       "      <td>-0.245860</td>\n",
       "    </tr>\n",
       "    <tr>\n",
       "      <th>1</th>\n",
       "      <td>-0.771263</td>\n",
       "      <td>-1.117021</td>\n",
       "      <td>0.329665</td>\n",
       "      <td>-1.297686</td>\n",
       "      <td>-1.222429</td>\n",
       "      <td>1.029509</td>\n",
       "      <td>-0.245832</td>\n",
       "    </tr>\n",
       "    <tr>\n",
       "      <th>2</th>\n",
       "      <td>-0.782892</td>\n",
       "      <td>-1.116681</td>\n",
       "      <td>0.332771</td>\n",
       "      <td>-1.301822</td>\n",
       "      <td>-1.222428</td>\n",
       "      <td>1.029448</td>\n",
       "      <td>-0.245818</td>\n",
       "    </tr>\n",
       "    <tr>\n",
       "      <th>3</th>\n",
       "      <td>-0.780935</td>\n",
       "      <td>-1.116764</td>\n",
       "      <td>0.333700</td>\n",
       "      <td>-1.301852</td>\n",
       "      <td>-1.222430</td>\n",
       "      <td>1.032845</td>\n",
       "      <td>-0.246955</td>\n",
       "    </tr>\n",
       "    <tr>\n",
       "      <th>4</th>\n",
       "      <td>-0.774043</td>\n",
       "      <td>-1.116775</td>\n",
       "      <td>0.335206</td>\n",
       "      <td>-1.303118</td>\n",
       "      <td>-1.222429</td>\n",
       "      <td>1.031807</td>\n",
       "      <td>-0.246610</td>\n",
       "    </tr>\n",
       "    <tr>\n",
       "      <th>...</th>\n",
       "      <td>...</td>\n",
       "      <td>...</td>\n",
       "      <td>...</td>\n",
       "      <td>...</td>\n",
       "      <td>...</td>\n",
       "      <td>...</td>\n",
       "      <td>...</td>\n",
       "    </tr>\n",
       "    <tr>\n",
       "      <th>11195</th>\n",
       "      <td>-1.168872</td>\n",
       "      <td>-1.050427</td>\n",
       "      <td>-1.115377</td>\n",
       "      <td>0.792591</td>\n",
       "      <td>0.941938</td>\n",
       "      <td>-0.769302</td>\n",
       "      <td>0.447383</td>\n",
       "    </tr>\n",
       "    <tr>\n",
       "      <th>75555</th>\n",
       "      <td>0.688486</td>\n",
       "      <td>1.167703</td>\n",
       "      <td>2.097396</td>\n",
       "      <td>-0.033507</td>\n",
       "      <td>0.394496</td>\n",
       "      <td>-0.934021</td>\n",
       "      <td>-1.695368</td>\n",
       "    </tr>\n",
       "    <tr>\n",
       "      <th>56196</th>\n",
       "      <td>0.681706</td>\n",
       "      <td>-0.578425</td>\n",
       "      <td>-0.322072</td>\n",
       "      <td>1.594412</td>\n",
       "      <td>0.671393</td>\n",
       "      <td>0.178584</td>\n",
       "      <td>0.082054</td>\n",
       "    </tr>\n",
       "    <tr>\n",
       "      <th>35929</th>\n",
       "      <td>-0.814940</td>\n",
       "      <td>-1.049214</td>\n",
       "      <td>-1.599150</td>\n",
       "      <td>-0.586802</td>\n",
       "      <td>0.856992</td>\n",
       "      <td>-1.910549</td>\n",
       "      <td>0.798512</td>\n",
       "    </tr>\n",
       "    <tr>\n",
       "      <th>49349</th>\n",
       "      <td>-0.089853</td>\n",
       "      <td>-0.844995</td>\n",
       "      <td>-0.657082</td>\n",
       "      <td>-0.499614</td>\n",
       "      <td>-0.681339</td>\n",
       "      <td>-0.476580</td>\n",
       "      <td>2.013809</td>\n",
       "    </tr>\n",
       "  </tbody>\n",
       "</table>\n",
       "<p>869295 rows × 7 columns</p>\n",
       "</div>"
      ],
      "text/plain": [
       "        ambient   coolant       u_d       u_q  motor_speed       i_d       i_q\n",
       "0     -0.752143 -1.118446  0.327935 -1.297858    -1.222428  1.029572 -0.245860\n",
       "1     -0.771263 -1.117021  0.329665 -1.297686    -1.222429  1.029509 -0.245832\n",
       "2     -0.782892 -1.116681  0.332771 -1.301822    -1.222428  1.029448 -0.245818\n",
       "3     -0.780935 -1.116764  0.333700 -1.301852    -1.222430  1.032845 -0.246955\n",
       "4     -0.774043 -1.116775  0.335206 -1.303118    -1.222429  1.031807 -0.246610\n",
       "...         ...       ...       ...       ...          ...       ...       ...\n",
       "11195 -1.168872 -1.050427 -1.115377  0.792591     0.941938 -0.769302  0.447383\n",
       "75555  0.688486  1.167703  2.097396 -0.033507     0.394496 -0.934021 -1.695368\n",
       "56196  0.681706 -0.578425 -0.322072  1.594412     0.671393  0.178584  0.082054\n",
       "35929 -0.814940 -1.049214 -1.599150 -0.586802     0.856992 -1.910549  0.798512\n",
       "49349 -0.089853 -0.844995 -0.657082 -0.499614    -0.681339 -0.476580  2.013809\n",
       "\n",
       "[869295 rows x 7 columns]"
      ]
     },
     "execution_count": 28,
     "metadata": {},
     "output_type": "execute_result"
    }
   ],
   "source": [
    "X_train\n",
    "#X_val"
   ]
  },
  {
   "cell_type": "code",
   "execution_count": 29,
   "metadata": {},
   "outputs": [],
   "source": [
    "y_hat=XGB_wrapper.predict(X_val)"
   ]
  },
  {
   "cell_type": "code",
   "execution_count": 30,
   "metadata": {},
   "outputs": [
    {
     "name": "stdout",
     "output_type": "stream",
     "text": [
      "Predicted: [[-1.2737734  -0.93039167 -0.0581705   0.72234845]\n",
      " [ 0.33239406  0.5029353   0.54524875  0.50432247]\n",
      " [ 0.25175506 -0.7859303  -0.3676731  -0.27269983]\n",
      " ...\n",
      " [-0.09731334 -0.21984327  0.2210542   0.40394527]\n",
      " [ 2.0858088   0.08098376  1.0213332   1.3163285 ]\n",
      " [ 0.7027139   1.2070993   1.1218846   1.0603733 ]]\n"
     ]
    }
   ],
   "source": [
    "#show predicted values\n",
    "print('Predicted: %s' % y_hat)"
   ]
  },
  {
   "cell_type": "code",
   "execution_count": 31,
   "metadata": {},
   "outputs": [
    {
     "data": {
      "text/plain": [
       "0.32344807944832293"
      ]
     },
     "execution_count": 31,
     "metadata": {},
     "output_type": "execute_result"
    }
   ],
   "source": [
    "#Root Mean Squared Error\n",
    "mean_squared_error(y_val, y_hat, squared=False)"
   ]
  },
  {
   "cell_type": "code",
   "execution_count": null,
   "metadata": {},
   "outputs": [
    {
     "data": {
      "text/plain": [
       "0.10810006641097014"
      ]
     },
     "execution_count": 32,
     "metadata": {},
     "output_type": "execute_result"
    }
   ],
   "source": [
    "#Mean Squared Error\n",
    "mean_squared_error(y_val, y_hat, squared=True)"
   ]
  },
  {
   "cell_type": "code",
   "execution_count": null,
   "metadata": {},
   "outputs": [
    {
     "data": {
      "text/plain": [
       "0.8703350651002012"
      ]
     },
     "execution_count": 33,
     "metadata": {},
     "output_type": "execute_result"
    }
   ],
   "source": [
    "#R^2\n",
    "r2_score(y_val, y_hat)"
   ]
  },
  {
   "cell_type": "code",
   "execution_count": null,
   "metadata": {},
   "outputs": [
    {
     "data": {
      "text/html": [
       "<div>\n",
       "<style scoped>\n",
       "    .dataframe tbody tr th:only-of-type {\n",
       "        vertical-align: middle;\n",
       "    }\n",
       "\n",
       "    .dataframe tbody tr th {\n",
       "        vertical-align: top;\n",
       "    }\n",
       "\n",
       "    .dataframe thead th {\n",
       "        text-align: right;\n",
       "    }\n",
       "</style>\n",
       "<table border=\"1\" class=\"dataframe\">\n",
       "  <thead>\n",
       "    <tr style=\"text-align: right;\">\n",
       "      <th></th>\n",
       "      <th>ambient</th>\n",
       "      <th>coolant</th>\n",
       "      <th>u_d</th>\n",
       "      <th>u_q</th>\n",
       "      <th>motor_speed</th>\n",
       "      <th>i_d</th>\n",
       "      <th>i_q</th>\n",
       "    </tr>\n",
       "  </thead>\n",
       "  <tbody>\n",
       "    <tr>\n",
       "      <th>0</th>\n",
       "      <td>-2.749564</td>\n",
       "      <td>-1.073478</td>\n",
       "      <td>0.336463</td>\n",
       "      <td>-1.295874</td>\n",
       "      <td>-1.222426</td>\n",
       "      <td>1.041590</td>\n",
       "      <td>-0.250223</td>\n",
       "    </tr>\n",
       "    <tr>\n",
       "      <th>1</th>\n",
       "      <td>-2.749612</td>\n",
       "      <td>-1.072823</td>\n",
       "      <td>0.339015</td>\n",
       "      <td>-1.298281</td>\n",
       "      <td>-1.222425</td>\n",
       "      <td>1.038055</td>\n",
       "      <td>-0.248936</td>\n",
       "    </tr>\n",
       "    <tr>\n",
       "      <th>2</th>\n",
       "      <td>-2.746339</td>\n",
       "      <td>-1.073277</td>\n",
       "      <td>0.340775</td>\n",
       "      <td>-1.299160</td>\n",
       "      <td>-1.222428</td>\n",
       "      <td>1.035532</td>\n",
       "      <td>-0.248042</td>\n",
       "    </tr>\n",
       "    <tr>\n",
       "      <th>3</th>\n",
       "      <td>-2.747337</td>\n",
       "      <td>-1.074854</td>\n",
       "      <td>0.341972</td>\n",
       "      <td>-1.300307</td>\n",
       "      <td>-1.222428</td>\n",
       "      <td>1.033727</td>\n",
       "      <td>-0.247364</td>\n",
       "    </tr>\n",
       "    <tr>\n",
       "      <th>4</th>\n",
       "      <td>-2.748052</td>\n",
       "      <td>-1.076696</td>\n",
       "      <td>0.344047</td>\n",
       "      <td>-1.301804</td>\n",
       "      <td>-1.222429</td>\n",
       "      <td>1.032427</td>\n",
       "      <td>-0.246897</td>\n",
       "    </tr>\n",
       "    <tr>\n",
       "      <th>...</th>\n",
       "      <td>...</td>\n",
       "      <td>...</td>\n",
       "      <td>...</td>\n",
       "      <td>...</td>\n",
       "      <td>...</td>\n",
       "      <td>...</td>\n",
       "      <td>...</td>\n",
       "    </tr>\n",
       "    <tr>\n",
       "      <th>76418</th>\n",
       "      <td>0.688609</td>\n",
       "      <td>1.633554</td>\n",
       "      <td>0.310133</td>\n",
       "      <td>-1.277628</td>\n",
       "      <td>0.273299</td>\n",
       "      <td>1.060139</td>\n",
       "      <td>-0.257238</td>\n",
       "    </tr>\n",
       "    <tr>\n",
       "      <th>76419</th>\n",
       "      <td>0.688609</td>\n",
       "      <td>1.633553</td>\n",
       "      <td>0.310133</td>\n",
       "      <td>-1.277628</td>\n",
       "      <td>0.265776</td>\n",
       "      <td>1.060147</td>\n",
       "      <td>-0.257233</td>\n",
       "    </tr>\n",
       "    <tr>\n",
       "      <th>76420</th>\n",
       "      <td>0.688609</td>\n",
       "      <td>1.633745</td>\n",
       "      <td>0.218686</td>\n",
       "      <td>-0.949521</td>\n",
       "      <td>0.258588</td>\n",
       "      <td>1.049340</td>\n",
       "      <td>-0.229511</td>\n",
       "    </tr>\n",
       "    <tr>\n",
       "      <th>76421</th>\n",
       "      <td>0.688609</td>\n",
       "      <td>1.633884</td>\n",
       "      <td>-0.281596</td>\n",
       "      <td>-0.791881</td>\n",
       "      <td>0.327896</td>\n",
       "      <td>0.321753</td>\n",
       "      <td>0.110473</td>\n",
       "    </tr>\n",
       "    <tr>\n",
       "      <th>76422</th>\n",
       "      <td>0.688609</td>\n",
       "      <td>1.633467</td>\n",
       "      <td>-0.657517</td>\n",
       "      <td>-0.792072</td>\n",
       "      <td>0.511580</td>\n",
       "      <td>-0.342893</td>\n",
       "      <td>0.282054</td>\n",
       "    </tr>\n",
       "  </tbody>\n",
       "</table>\n",
       "<p>76423 rows × 7 columns</p>\n",
       "</div>"
      ],
      "text/plain": [
       "        ambient   coolant       u_d       u_q  motor_speed       i_d       i_q\n",
       "0     -2.749564 -1.073478  0.336463 -1.295874    -1.222426  1.041590 -0.250223\n",
       "1     -2.749612 -1.072823  0.339015 -1.298281    -1.222425  1.038055 -0.248936\n",
       "2     -2.746339 -1.073277  0.340775 -1.299160    -1.222428  1.035532 -0.248042\n",
       "3     -2.747337 -1.074854  0.341972 -1.300307    -1.222428  1.033727 -0.247364\n",
       "4     -2.748052 -1.076696  0.344047 -1.301804    -1.222429  1.032427 -0.246897\n",
       "...         ...       ...       ...       ...          ...       ...       ...\n",
       "76418  0.688609  1.633554  0.310133 -1.277628     0.273299  1.060139 -0.257238\n",
       "76419  0.688609  1.633553  0.310133 -1.277628     0.265776  1.060147 -0.257233\n",
       "76420  0.688609  1.633745  0.218686 -0.949521     0.258588  1.049340 -0.229511\n",
       "76421  0.688609  1.633884 -0.281596 -0.791881     0.327896  0.321753  0.110473\n",
       "76422  0.688609  1.633467 -0.657517 -0.792072     0.511580 -0.342893  0.282054\n",
       "\n",
       "[76423 rows x 7 columns]"
      ]
     },
     "execution_count": 34,
     "metadata": {},
     "output_type": "execute_result"
    }
   ],
   "source": [
    "test_df"
   ]
  },
  {
   "cell_type": "code",
   "execution_count": null,
   "metadata": {},
   "outputs": [],
   "source": [
    "#predict test dataset\n",
    "y_hat_test=XGB_wrapper.predict(test_df)"
   ]
  },
  {
   "cell_type": "code",
   "execution_count": null,
   "metadata": {},
   "outputs": [
    {
     "data": {
      "text/plain": [
       "0.4241872511419304"
      ]
     },
     "execution_count": 36,
     "metadata": {},
     "output_type": "execute_result"
    }
   ],
   "source": [
    "#Root Mean Squared Error\n",
    "mean_squared_error(test_true, y_hat_test, squared=False)"
   ]
  },
  {
   "cell_type": "code",
   "execution_count": null,
   "metadata": {},
   "outputs": [
    {
     "data": {
      "text/plain": [
       "0.7604442197039004"
      ]
     },
     "execution_count": 37,
     "metadata": {},
     "output_type": "execute_result"
    }
   ],
   "source": [
    "#R^2\n",
    "r2_score(test_true, y_hat_test)"
   ]
  },
  {
   "cell_type": "markdown",
   "metadata": {},
   "source": [
    "## Modelling for stacked Regression"
   ]
  },
  {
   "cell_type": "code",
   "execution_count": null,
   "metadata": {},
   "outputs": [],
   "source": [
    "#import libaries\n",
    "\n",
    "from sklearn.linear_model import ElasticNet, Lasso,  BayesianRidge, LassoLarsIC\n",
    "from sklearn.ensemble import RandomForestRegressor,  GradientBoostingRegressor\n",
    "from sklearn.kernel_ridge import KernelRidge\n",
    "from sklearn.pipeline import make_pipeline\n",
    "from sklearn.preprocessing import RobustScaler\n",
    "from sklearn.base import BaseEstimator, TransformerMixin, RegressorMixin, clone\n",
    "from sklearn.model_selection import KFold, cross_val_score, train_test_split\n",
    "from sklearn.metrics import mean_squared_error\n",
    "import xgboost as xgb\n",
    "import lightgbm as lgb\n",
    "\n"
   ]
  },
  {
   "cell_type": "code",
   "execution_count": null,
   "metadata": {},
   "outputs": [],
   "source": [
    "#Validation function\n",
    "n_folds = 5\n",
    "\n",
    "def rmse_cv(model,X,y):\n",
    "    kf = KFold(n_folds, shuffle=True, random_state=42).get_n_splits(X.values)\n",
    "    rmse= np.sqrt(-cross_val_score(model, X.values, y, scoring=\"neg_mean_squared_error\", cv = kf))\n",
    "    return(rmse)"
   ]
  },
  {
   "cell_type": "markdown",
   "metadata": {},
   "source": [
    "### Base Models"
   ]
  },
  {
   "cell_type": "code",
   "execution_count": null,
   "metadata": {},
   "outputs": [],
   "source": [
    "#LASSO regression\n",
    "#since teh model is sensitive to outliers we use RobustScalar() method on pipeline\n",
    "lasso_model = make_pipeline(RobustScaler(), Lasso(alpha =0.0005, random_state=1))"
   ]
  },
  {
   "cell_type": "code",
   "execution_count": null,
   "metadata": {},
   "outputs": [],
   "source": [
    "##Elastic Net Regression\n",
    "ENet_model=make_pipeline(RobustScaler(), ElasticNet(alpha=0.0005, l1_ratio=.9, random_state=3))"
   ]
  },
  {
   "cell_type": "code",
   "execution_count": null,
   "metadata": {},
   "outputs": [],
   "source": [
    "##Gradient Boosting Regression\n",
    "GBoost_model = GradientBoostingRegressor(n_estimators=3000, learning_rate=0.05,\n",
    "                                   max_depth=4, max_features='sqrt',\n",
    "                                   min_samples_leaf=15, min_samples_split=10, \n",
    "                                   loss='huber', random_state =5)\n",
    "\n"
   ]
  },
  {
   "cell_type": "code",
   "execution_count": null,
   "metadata": {},
   "outputs": [],
   "source": [
    "##XGBoost\n",
    "XGBReg_model = xgb.XGBRegressor(colsample_bytree=0.4603, gamma=0.0468, \n",
    "                             learning_rate=0.05, max_depth=3, \n",
    "                             min_child_weight=1.7817, n_estimators=2200,\n",
    "                             reg_alpha=0.4640, reg_lambda=0.8571,\n",
    "                             subsample=0.5213, silent=1,\n",
    "                             random_state =7, nthread = -1)"
   ]
  },
  {
   "cell_type": "code",
   "execution_count": null,
   "metadata": {},
   "outputs": [],
   "source": [
    "#LightGMB\n",
    "lgbmr_model = lgb.LGBMRegressor(objective='regression',num_leaves=5,\n",
    "                              learning_rate=0.05, n_estimators=720,\n",
    "                              max_bin = 55, bagging_fraction = 0.8,\n",
    "                              bagging_freq = 5, feature_fraction = 0.2319,\n",
    "                              feature_fraction_seed=9, bagging_seed=9,\n",
    "                              min_data_in_leaf =6, min_sum_hessian_in_leaf = 11)"
   ]
  },
  {
   "cell_type": "markdown",
   "metadata": {},
   "source": [
    "### Base Model Scores"
   ]
  },
  {
   "cell_type": "code",
   "execution_count": null,
   "metadata": {},
   "outputs": [
    {
     "name": "stdout",
     "output_type": "stream",
     "text": [
      "\n",
      "Lasso score: 0.7325 (0.0840)\n",
      "\n",
      "\n",
      "Lasso score: 0.4087 (0.0224)\n",
      "\n",
      "\n",
      "Lasso score: 0.5741 (0.0411)\n",
      "\n",
      "\n",
      "Lasso score: 0.6492 (0.0568)\n",
      "\n"
     ]
    }
   ],
   "source": [
    "score1 = rmse_cv(lasso_model,X_train,y_train.iloc[:,0])\n",
    "score2 = rmse_cv(lasso_model,X_train,y_train.iloc[:,1])\n",
    "score3 = rmse_cv(lasso_model,X_train,y_train.iloc[:,2])\n",
    "score4 = rmse_cv(lasso_model,X_train,y_train.iloc[:,3])\n",
    "print(\"\\nLasso score: {:.4f} ({:.4f})\\n\".format(score1.mean(), score1.std()))\n",
    "print(\"\\nLasso score: {:.4f} ({:.4f})\\n\".format(score2.mean(), score2.std()))\n",
    "print(\"\\nLasso score: {:.4f} ({:.4f})\\n\".format(score3.mean(), score3.std()))\n",
    "print(\"\\nLasso score: {:.4f} ({:.4f})\\n\".format(score4.mean(), score4.std()))"
   ]
  },
  {
   "cell_type": "code",
   "execution_count": null,
   "metadata": {},
   "outputs": [
    {
     "name": "stdout",
     "output_type": "stream",
     "text": [
      "\n",
      "ElasticNet score: 0.7325 (0.0839)\n",
      "\n",
      "\n",
      "ElasticNet score: 0.4087 (0.0225)\n",
      "\n",
      "\n",
      "ElasticNet score: 0.5742 (0.0412)\n",
      "\n",
      "\n",
      "ElasticNet score: 0.6492 (0.0568)\n",
      "\n"
     ]
    }
   ],
   "source": [
    "score1 = rmse_cv(ENet_model,X_train,y_train.iloc[:,0])\n",
    "score2 = rmse_cv(ENet_model,X_train,y_train.iloc[:,1])\n",
    "score3 = rmse_cv(ENet_model,X_train,y_train.iloc[:,2])\n",
    "score4 = rmse_cv(ENet_model,X_train,y_train.iloc[:,3])\n",
    "print(\"\\nElasticNet score: {:.4f} ({:.4f})\\n\".format(score1.mean(), score1.std()))\n",
    "print(\"\\nElasticNet score: {:.4f} ({:.4f})\\n\".format(score2.mean(), score2.std()))\n",
    "print(\"\\nElasticNet score: {:.4f} ({:.4f})\\n\".format(score3.mean(), score3.std()))\n",
    "print(\"\\nElasticNet score: {:.4f} ({:.4f})\\n\".format(score4.mean(), score4.std()))"
   ]
  },
  {
   "cell_type": "code",
   "execution_count": null,
   "metadata": {},
   "outputs": [],
   "source": [
    "score1 = rmse_cv(GBoost_model,X_train,y_train.iloc[:,0])\n",
    "score2 = rmse_cv(GBoost_model,X_train,y_train.iloc[:,1])\n",
    "score3 = rmse_cv(GBoost_model,X_train,y_train.iloc[:,2])\n",
    "score4 = rmse_cv(GBoost_model,X_train,y_train.iloc[:,3])\n",
    "print(\"\\nGradient Boosting score: {:.4f} ({:.4f})\\n\".format(score1.mean(), score1.std()))\n",
    "print(\"\\nGradient Boosting score: {:.4f} ({:.4f})\\n\".format(score2.mean(), score2.std()))\n",
    "print(\"\\nGradient Boosting score: {:.4f} ({:.4f})\\n\".format(score3.mean(), score3.std()))\n",
    "print(\"\\nGradient Boosting score:{:.4f} ({:.4f})\\n\".format(score4.mean(), score4.std()))\n"
   ]
  },
  {
   "cell_type": "code",
   "execution_count": null,
   "metadata": {},
   "outputs": [],
   "source": [
    "score1 = rmse_cv(XGBReg_model,X_train,y_train.iloc[:,0])\n",
    "score2 = rmse_cv(XGBReg_model,X_train,y_train.iloc[:,1])\n",
    "score3 = rmse_cv(XGBReg_model,X_train,y_train.iloc[:,2])\n",
    "score4 = rmse_cv(XGBReg_model,X_train,y_train.iloc[:,3])\n",
    "print(\"\\nXgboost score: {:.4f} ({:.4f})\\n\".format(score1.mean(), score1.std()))\n",
    "print(\"\\nXgboost score: {:.4f} ({:.4f})\\n\".format(score2.mean(), score2.std()))\n",
    "print(\"\\nXgboost score: {:.4f} ({:.4f})\\n\".format(score3.mean(), score3.std()))\n",
    "print(\"\\nXgboost score: {:.4f} ({:.4f})\\n\".format(score4.mean(), score4.std()))\n"
   ]
  },
  {
   "cell_type": "code",
   "execution_count": null,
   "metadata": {},
   "outputs": [],
   "source": [
    "score1 = rmse_cv(lgbmr_model,X_train,y_train.iloc[:,0])\n",
    "score2 = rmse_cv(lgbmr_model,X_train,y_train.iloc[:,1])\n",
    "score3 = rmse_cv(lgbmr_model,X_train,y_train.iloc[:,2])\n",
    "score4 = rmse_cv(lgbmr_model,X_train,y_train.iloc[:,3])\n",
    "print(\"\\nLGBM score: {:.4f} ({:.4f})\\n\".format(score1.mean(), score1.std()))\n",
    "print(\"\\nLGBM score: {:.4f} ({:.4f})\\n\".format(score2.mean(), score2.std()))\n",
    "print(\"\\nLGBM score: {:.4f} ({:.4f})\\n\".format(score3.mean(), score3.std()))\n",
    "print(\"\\nLGBM score: {:.4f} ({:.4f})\\n\".format(score4.mean(), score4.std()))\n"
   ]
  },
  {
   "cell_type": "markdown",
   "metadata": {},
   "source": [
    "### Stacking Approach - Averaging Base Models"
   ]
  },
  {
   "cell_type": "code",
   "execution_count": null,
   "metadata": {},
   "outputs": [],
   "source": []
  },
  {
   "cell_type": "code",
   "execution_count": null,
   "metadata": {},
   "outputs": [],
   "source": []
  }
 ],
 "metadata": {
  "kernelspec": {
   "display_name": "Python 3",
   "language": "python",
   "name": "python3"
  },
  "language_info": {
   "codemirror_mode": {
    "name": "ipython",
    "version": 3
   },
   "file_extension": ".py",
   "mimetype": "text/x-python",
   "name": "python",
   "nbconvert_exporter": "python",
   "pygments_lexer": "ipython3",
   "version": "3.7.6"
  }
 },
 "nbformat": 4,
 "nbformat_minor": 4
}
