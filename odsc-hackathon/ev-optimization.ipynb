{
 "cells": [
  {
   "cell_type": "markdown",
   "metadata": {},
   "source": [
    "# Improving Efficiency & Production Process of Electric Vehicles using Data Science Techniques"
   ]
  },
  {
   "cell_type": "markdown",
   "metadata": {},
   "source": [
    "This challenge has been designed to provide with you hands-on understanding of data science problems in commercial EVs’ production and optimization in most advanced motor technologies used by companies like Tesla, BMW and Ford. \n",
    "\n",
    "It is often a challenging and complex task to measure rotor and stator temperatures in commercial electric vehicles. Even if these specific tasks can be completed successfully, these testing processes cannot be classified as economical for manufacturers. Keeping in mind that the temperature data have significant importance on dynamical responses of vehicles and motors’ performances, there is an emerging need for new proposals and scientific contributions in this domain.\n",
    "\n",
    "Consider, one manufacturer of electric cars hired you to propose an estimator for the stator and rotor temperatures and design a predictive machine learning or deep learning model. Such a model could significantly help your new company to utilize new control strategies of the motors and maximize their operational performances. If you build an accurate ML/DL model, the needs of the company for implementing additional temperature sensors in vehicles will be reduced. The potential contribution will directly result in lowering car construction and maintenance costs, and will convince the company to invest further in hiring DS experts like you."
   ]
  },
  {
   "cell_type": "markdown",
   "metadata": {},
   "source": [
    "## Import Libraries"
   ]
  },
  {
   "cell_type": "code",
   "execution_count": 1,
   "metadata": {
    "_cell_guid": "b1076dfc-b9ad-4769-8c92-a6c4dae69d19",
    "_uuid": "8f2839f25d086af736a60e9eeb907d3b93b6e0e5"
   },
   "outputs": [
    {
     "data": {
      "text/html": [
       "        <script type=\"text/javascript\">\n",
       "        window.PlotlyConfig = {MathJaxConfig: 'local'};\n",
       "        if (window.MathJax) {MathJax.Hub.Config({SVG: {font: \"STIX-Web\"}});}\n",
       "        if (typeof require !== 'undefined') {\n",
       "        require.undef(\"plotly\");\n",
       "        requirejs.config({\n",
       "            paths: {\n",
       "                'plotly': ['https://cdn.plot.ly/plotly-latest.min']\n",
       "            }\n",
       "        });\n",
       "        require(['plotly'], function(Plotly) {\n",
       "            window._Plotly = Plotly;\n",
       "        });\n",
       "        }\n",
       "        </script>\n",
       "        "
      ]
     },
     "metadata": {},
     "output_type": "display_data"
    }
   ],
   "source": [
    "import pandas as pd\n",
    "import numpy as np\n",
    "import seaborn as sns\n",
    "import matplotlib as plt\n",
    "%matplotlib inline\n",
    "\n",
    "import plotly.offline as py\n",
    "py.init_notebook_mode(connected=True)\n",
    "import plotly.graph_objs as go\n",
    "import plotly.tools as tls\n",
    "import plotly.figure_factory as ff\n",
    "\n",
    "from sklearn.model_selection import train_test_split\n",
    "from sklearn.multioutput import MultiOutputRegressor\n",
    "from sklearn.metrics import r2_score\n",
    "from sklearn.metrics import mean_squared_error\n",
    "from sklearn.model_selection import RandomizedSearchCV, GridSearchCV\n",
    "\n",
    "from scipy.stats import norm, skew,zscore #for some statistics\n",
    "\n",
    "import xgboost"
   ]
  },
  {
   "cell_type": "code",
   "execution_count": 2,
   "metadata": {
    "_cell_guid": "79c7e3d0-c299-4dcb-8224-4455121ee9b0",
    "_uuid": "d629ff2d2480ee46fbb7e2d37f6b5fab8052498a"
   },
   "outputs": [],
   "source": [
    "train_df=pd.read_csv(\"train_set.csv\")\n",
    "test_df=pd.read_csv(\"test_set.csv\")\n",
    "test_true=pd.read_csv(\"test_solutions.csv\")"
   ]
  },
  {
   "cell_type": "code",
   "execution_count": 3,
   "metadata": {},
   "outputs": [
    {
     "data": {
      "text/plain": [
       "(846368, 13)"
      ]
     },
     "execution_count": 3,
     "metadata": {},
     "output_type": "execute_result"
    }
   ],
   "source": [
    "train_df.shape\n",
    "#test_df.shape"
   ]
  },
  {
   "cell_type": "code",
   "execution_count": 4,
   "metadata": {},
   "outputs": [
    {
     "data": {
      "text/plain": [
       "ambient           0\n",
       "coolant           0\n",
       "u_d               0\n",
       "u_q               0\n",
       "motor_speed       0\n",
       "torque            0\n",
       "i_d               0\n",
       "i_q               0\n",
       "pm                0\n",
       "stator_yoke       0\n",
       "stator_tooth      0\n",
       "stator_winding    0\n",
       "profile_id        0\n",
       "dtype: int64"
      ]
     },
     "execution_count": 4,
     "metadata": {},
     "output_type": "execute_result"
    }
   ],
   "source": [
    "#check for nan values\n",
    "train_df.isnull().sum()"
   ]
  },
  {
   "cell_type": "code",
   "execution_count": 5,
   "metadata": {},
   "outputs": [
    {
     "data": {
      "text/plain": [
       "20    43970\n",
       "6     40387\n",
       "65    40093\n",
       "66    36475\n",
       "27    35360\n",
       "4     33423\n",
       "58    33381\n",
       "56    33122\n",
       "53    32441\n",
       "79    31153\n",
       "44    26340\n",
       "70    25676\n",
       "30    23862\n",
       "80    23823\n",
       "74    23760\n",
       "68    23330\n",
       "36    22608\n",
       "76    22187\n",
       "48    21982\n",
       "29    21357\n",
       "81    17671\n",
       "45    17141\n",
       "63    16667\n",
       "69    15349\n",
       "72    15300\n",
       "10    15255\n",
       "77    14621\n",
       "60    14542\n",
       "57    14402\n",
       "75    13471\n",
       "67    11134\n",
       "49    10815\n",
       "50    10809\n",
       "55    10806\n",
       "54    10806\n",
       "78     8444\n",
       "43     8442\n",
       "11     7886\n",
       "59     7474\n",
       "64     6249\n",
       "46     2179\n",
       "47     2175\n",
       "Name: profile_id, dtype: int64"
      ]
     },
     "execution_count": 5,
     "metadata": {},
     "output_type": "execute_result"
    }
   ],
   "source": [
    "train_df['profile_id'].value_counts()"
   ]
  },
  {
   "cell_type": "markdown",
   "metadata": {},
   "source": [
    "## Exploratory Data Analysis"
   ]
  },
  {
   "cell_type": "markdown",
   "metadata": {},
   "source": [
    "### Minimum,Medium and Maximum motor_speed of each profile id"
   ]
  },
  {
   "cell_type": "code",
   "execution_count": 6,
   "metadata": {},
   "outputs": [
    {
     "data": {
      "text/html": [
       "<div>\n",
       "<style scoped>\n",
       "    .dataframe tbody tr th:only-of-type {\n",
       "        vertical-align: middle;\n",
       "    }\n",
       "\n",
       "    .dataframe tbody tr th {\n",
       "        vertical-align: top;\n",
       "    }\n",
       "\n",
       "    .dataframe thead th {\n",
       "        text-align: right;\n",
       "    }\n",
       "</style>\n",
       "<table border=\"1\" class=\"dataframe\">\n",
       "  <thead>\n",
       "    <tr style=\"text-align: right;\">\n",
       "      <th></th>\n",
       "      <th>motor_speed_min</th>\n",
       "      <th>motor_speed_max</th>\n",
       "      <th>motor_speed_mean</th>\n",
       "      <th>ambient_min</th>\n",
       "      <th>ambient_max</th>\n",
       "      <th>ambient_mean</th>\n",
       "      <th>coolant_min</th>\n",
       "      <th>coolant_max</th>\n",
       "      <th>coolant_mean</th>\n",
       "    </tr>\n",
       "    <tr>\n",
       "      <th>profile_id</th>\n",
       "      <th></th>\n",
       "      <th></th>\n",
       "      <th></th>\n",
       "      <th></th>\n",
       "      <th></th>\n",
       "      <th></th>\n",
       "      <th></th>\n",
       "      <th></th>\n",
       "      <th></th>\n",
       "    </tr>\n",
       "  </thead>\n",
       "  <tbody>\n",
       "    <tr>\n",
       "      <th>4</th>\n",
       "      <td>-1.222434</td>\n",
       "      <td>2.024164</td>\n",
       "      <td>0.229409</td>\n",
       "      <td>-1.658480</td>\n",
       "      <td>0.642002</td>\n",
       "      <td>-0.273821</td>\n",
       "      <td>-1.156575</td>\n",
       "      <td>-1.012797</td>\n",
       "      <td>-1.070574</td>\n",
       "    </tr>\n",
       "    <tr>\n",
       "      <th>6</th>\n",
       "      <td>-1.222586</td>\n",
       "      <td>1.483038</td>\n",
       "      <td>0.641857</td>\n",
       "      <td>-3.698899</td>\n",
       "      <td>2.712510</td>\n",
       "      <td>0.299181</td>\n",
       "      <td>-1.288667</td>\n",
       "      <td>1.110164</td>\n",
       "      <td>-0.604543</td>\n",
       "    </tr>\n",
       "    <tr>\n",
       "      <th>10</th>\n",
       "      <td>-1.239020</td>\n",
       "      <td>2.022567</td>\n",
       "      <td>-0.180202</td>\n",
       "      <td>-2.749857</td>\n",
       "      <td>-0.814454</td>\n",
       "      <td>-1.384847</td>\n",
       "      <td>-1.121212</td>\n",
       "      <td>-1.006354</td>\n",
       "      <td>-1.066007</td>\n",
       "    </tr>\n",
       "    <tr>\n",
       "      <th>11</th>\n",
       "      <td>-1.222436</td>\n",
       "      <td>1.990795</td>\n",
       "      <td>-0.077584</td>\n",
       "      <td>-1.638794</td>\n",
       "      <td>-0.620139</td>\n",
       "      <td>-1.012383</td>\n",
       "      <td>-1.121654</td>\n",
       "      <td>-1.033721</td>\n",
       "      <td>-1.074153</td>\n",
       "    </tr>\n",
       "    <tr>\n",
       "      <th>20</th>\n",
       "      <td>-1.222435</td>\n",
       "      <td>1.888867</td>\n",
       "      <td>0.288956</td>\n",
       "      <td>-2.748476</td>\n",
       "      <td>2.967117</td>\n",
       "      <td>0.003994</td>\n",
       "      <td>-1.206490</td>\n",
       "      <td>1.094156</td>\n",
       "      <td>-0.427462</td>\n",
       "    </tr>\n",
       "    <tr>\n",
       "      <th>27</th>\n",
       "      <td>-1.222437</td>\n",
       "      <td>1.942964</td>\n",
       "      <td>0.190105</td>\n",
       "      <td>-2.749854</td>\n",
       "      <td>1.512007</td>\n",
       "      <td>-0.571209</td>\n",
       "      <td>-1.127431</td>\n",
       "      <td>-1.028242</td>\n",
       "      <td>-1.064425</td>\n",
       "    </tr>\n",
       "    <tr>\n",
       "      <th>29</th>\n",
       "      <td>-1.222441</td>\n",
       "      <td>2.007902</td>\n",
       "      <td>0.333338</td>\n",
       "      <td>-3.067714</td>\n",
       "      <td>-0.009170</td>\n",
       "      <td>-1.568119</td>\n",
       "      <td>-1.135779</td>\n",
       "      <td>-0.993685</td>\n",
       "      <td>-1.052842</td>\n",
       "    </tr>\n",
       "    <tr>\n",
       "      <th>30</th>\n",
       "      <td>-1.222436</td>\n",
       "      <td>-0.161881</td>\n",
       "      <td>-0.791759</td>\n",
       "      <td>-3.077688</td>\n",
       "      <td>-1.011824</td>\n",
       "      <td>-2.078161</td>\n",
       "      <td>-1.161648</td>\n",
       "      <td>-1.038190</td>\n",
       "      <td>-1.072176</td>\n",
       "    </tr>\n",
       "    <tr>\n",
       "      <th>36</th>\n",
       "      <td>-1.222432</td>\n",
       "      <td>-0.248458</td>\n",
       "      <td>-0.777123</td>\n",
       "      <td>-3.512863</td>\n",
       "      <td>-1.628599</td>\n",
       "      <td>-2.746647</td>\n",
       "      <td>-1.109705</td>\n",
       "      <td>-0.922242</td>\n",
       "      <td>-1.058847</td>\n",
       "    </tr>\n",
       "    <tr>\n",
       "      <th>43</th>\n",
       "      <td>-1.222436</td>\n",
       "      <td>1.483032</td>\n",
       "      <td>-0.341555</td>\n",
       "      <td>-2.204334</td>\n",
       "      <td>-0.207098</td>\n",
       "      <td>-0.941903</td>\n",
       "      <td>-1.158274</td>\n",
       "      <td>0.393226</td>\n",
       "      <td>-0.424943</td>\n",
       "    </tr>\n",
       "    <tr>\n",
       "      <th>44</th>\n",
       "      <td>-1.222436</td>\n",
       "      <td>1.753589</td>\n",
       "      <td>-0.156351</td>\n",
       "      <td>-8.573954</td>\n",
       "      <td>0.686980</td>\n",
       "      <td>-0.395137</td>\n",
       "      <td>-1.429349</td>\n",
       "      <td>2.271667</td>\n",
       "      <td>0.410105</td>\n",
       "    </tr>\n",
       "    <tr>\n",
       "      <th>45</th>\n",
       "      <td>-1.222437</td>\n",
       "      <td>1.483040</td>\n",
       "      <td>-0.315664</td>\n",
       "      <td>-1.409355</td>\n",
       "      <td>0.620481</td>\n",
       "      <td>-0.258303</td>\n",
       "      <td>-0.699153</td>\n",
       "      <td>2.055856</td>\n",
       "      <td>0.910573</td>\n",
       "    </tr>\n",
       "    <tr>\n",
       "      <th>46</th>\n",
       "      <td>-1.186270</td>\n",
       "      <td>1.971146</td>\n",
       "      <td>0.198407</td>\n",
       "      <td>-0.975373</td>\n",
       "      <td>0.103983</td>\n",
       "      <td>-0.434080</td>\n",
       "      <td>2.165083</td>\n",
       "      <td>2.179865</td>\n",
       "      <td>2.174367</td>\n",
       "    </tr>\n",
       "    <tr>\n",
       "      <th>47</th>\n",
       "      <td>-1.222428</td>\n",
       "      <td>1.971411</td>\n",
       "      <td>0.193196</td>\n",
       "      <td>-1.847214</td>\n",
       "      <td>0.267697</td>\n",
       "      <td>-0.424873</td>\n",
       "      <td>0.019119</td>\n",
       "      <td>0.336751</td>\n",
       "      <td>0.325356</td>\n",
       "    </tr>\n",
       "    <tr>\n",
       "      <th>48</th>\n",
       "      <td>-1.222434</td>\n",
       "      <td>2.011236</td>\n",
       "      <td>0.266787</td>\n",
       "      <td>-3.344592</td>\n",
       "      <td>0.696730</td>\n",
       "      <td>0.058806</td>\n",
       "      <td>-0.303326</td>\n",
       "      <td>0.346973</td>\n",
       "      <td>0.326350</td>\n",
       "    </tr>\n",
       "    <tr>\n",
       "      <th>49</th>\n",
       "      <td>-1.222433</td>\n",
       "      <td>2.007157</td>\n",
       "      <td>0.250967</td>\n",
       "      <td>-0.857257</td>\n",
       "      <td>0.702822</td>\n",
       "      <td>0.398166</td>\n",
       "      <td>0.115610</td>\n",
       "      <td>0.351687</td>\n",
       "      <td>0.333999</td>\n",
       "    </tr>\n",
       "    <tr>\n",
       "      <th>50</th>\n",
       "      <td>-1.201159</td>\n",
       "      <td>2.007095</td>\n",
       "      <td>0.253054</td>\n",
       "      <td>-4.459566</td>\n",
       "      <td>0.845379</td>\n",
       "      <td>0.538290</td>\n",
       "      <td>-1.231942</td>\n",
       "      <td>-0.093450</td>\n",
       "      <td>-0.373865</td>\n",
       "    </tr>\n",
       "    <tr>\n",
       "      <th>53</th>\n",
       "      <td>-1.194978</td>\n",
       "      <td>1.992377</td>\n",
       "      <td>0.394331</td>\n",
       "      <td>-3.197893</td>\n",
       "      <td>2.081189</td>\n",
       "      <td>0.972138</td>\n",
       "      <td>-1.112287</td>\n",
       "      <td>1.319804</td>\n",
       "      <td>-0.226953</td>\n",
       "    </tr>\n",
       "    <tr>\n",
       "      <th>54</th>\n",
       "      <td>-1.222353</td>\n",
       "      <td>1.985970</td>\n",
       "      <td>0.325831</td>\n",
       "      <td>-0.245408</td>\n",
       "      <td>1.494669</td>\n",
       "      <td>0.733277</td>\n",
       "      <td>-0.539601</td>\n",
       "      <td>0.726296</td>\n",
       "      <td>-0.035642</td>\n",
       "    </tr>\n",
       "    <tr>\n",
       "      <th>55</th>\n",
       "      <td>-1.222413</td>\n",
       "      <td>1.985965</td>\n",
       "      <td>0.325684</td>\n",
       "      <td>-1.089932</td>\n",
       "      <td>0.687105</td>\n",
       "      <td>0.105405</td>\n",
       "      <td>-0.433623</td>\n",
       "      <td>2.283149</td>\n",
       "      <td>0.135423</td>\n",
       "    </tr>\n",
       "    <tr>\n",
       "      <th>56</th>\n",
       "      <td>-1.222183</td>\n",
       "      <td>2.014061</td>\n",
       "      <td>0.054986</td>\n",
       "      <td>-2.750342</td>\n",
       "      <td>1.605528</td>\n",
       "      <td>0.950433</td>\n",
       "      <td>-1.127595</td>\n",
       "      <td>2.181989</td>\n",
       "      <td>0.734889</td>\n",
       "    </tr>\n",
       "    <tr>\n",
       "      <th>57</th>\n",
       "      <td>-1.222370</td>\n",
       "      <td>1.992713</td>\n",
       "      <td>0.137142</td>\n",
       "      <td>-0.497148</td>\n",
       "      <td>1.851291</td>\n",
       "      <td>0.437317</td>\n",
       "      <td>-0.805820</td>\n",
       "      <td>2.004410</td>\n",
       "      <td>0.462783</td>\n",
       "    </tr>\n",
       "    <tr>\n",
       "      <th>58</th>\n",
       "      <td>-1.222427</td>\n",
       "      <td>1.995248</td>\n",
       "      <td>0.438874</td>\n",
       "      <td>-2.159739</td>\n",
       "      <td>2.681774</td>\n",
       "      <td>1.436411</td>\n",
       "      <td>-0.949885</td>\n",
       "      <td>2.277566</td>\n",
       "      <td>0.573195</td>\n",
       "    </tr>\n",
       "    <tr>\n",
       "      <th>59</th>\n",
       "      <td>-1.222433</td>\n",
       "      <td>1.968252</td>\n",
       "      <td>0.246395</td>\n",
       "      <td>-3.842818</td>\n",
       "      <td>0.974492</td>\n",
       "      <td>0.576673</td>\n",
       "      <td>-1.175053</td>\n",
       "      <td>2.649032</td>\n",
       "      <td>0.620011</td>\n",
       "    </tr>\n",
       "    <tr>\n",
       "      <th>60</th>\n",
       "      <td>-1.222438</td>\n",
       "      <td>1.970819</td>\n",
       "      <td>-0.007280</td>\n",
       "      <td>-5.092406</td>\n",
       "      <td>1.570158</td>\n",
       "      <td>0.667057</td>\n",
       "      <td>-1.025360</td>\n",
       "      <td>2.262038</td>\n",
       "      <td>0.365130</td>\n",
       "    </tr>\n",
       "    <tr>\n",
       "      <th>63</th>\n",
       "      <td>-1.222437</td>\n",
       "      <td>1.994525</td>\n",
       "      <td>-0.169385</td>\n",
       "      <td>-0.795984</td>\n",
       "      <td>0.684689</td>\n",
       "      <td>0.228938</td>\n",
       "      <td>-1.125727</td>\n",
       "      <td>2.297221</td>\n",
       "      <td>0.465845</td>\n",
       "    </tr>\n",
       "    <tr>\n",
       "      <th>64</th>\n",
       "      <td>-1.222436</td>\n",
       "      <td>1.958625</td>\n",
       "      <td>0.097176</td>\n",
       "      <td>-0.925704</td>\n",
       "      <td>0.233241</td>\n",
       "      <td>0.003902</td>\n",
       "      <td>-0.659209</td>\n",
       "      <td>0.444391</td>\n",
       "      <td>-0.010615</td>\n",
       "    </tr>\n",
       "    <tr>\n",
       "      <th>65</th>\n",
       "      <td>-1.222440</td>\n",
       "      <td>2.002607</td>\n",
       "      <td>-0.075467</td>\n",
       "      <td>-3.956958</td>\n",
       "      <td>1.553845</td>\n",
       "      <td>0.705592</td>\n",
       "      <td>-1.130524</td>\n",
       "      <td>2.158068</td>\n",
       "      <td>0.193686</td>\n",
       "    </tr>\n",
       "    <tr>\n",
       "      <th>66</th>\n",
       "      <td>-1.222442</td>\n",
       "      <td>2.011761</td>\n",
       "      <td>-0.207696</td>\n",
       "      <td>-4.626428</td>\n",
       "      <td>0.723836</td>\n",
       "      <td>0.499345</td>\n",
       "      <td>-1.169556</td>\n",
       "      <td>2.287928</td>\n",
       "      <td>0.607537</td>\n",
       "    </tr>\n",
       "    <tr>\n",
       "      <th>67</th>\n",
       "      <td>-1.222435</td>\n",
       "      <td>1.969274</td>\n",
       "      <td>-0.106221</td>\n",
       "      <td>-0.937568</td>\n",
       "      <td>0.642769</td>\n",
       "      <td>0.499850</td>\n",
       "      <td>-0.826950</td>\n",
       "      <td>-0.642189</td>\n",
       "      <td>-0.675403</td>\n",
       "    </tr>\n",
       "    <tr>\n",
       "      <th>68</th>\n",
       "      <td>-1.222439</td>\n",
       "      <td>1.994083</td>\n",
       "      <td>-0.079778</td>\n",
       "      <td>-5.775765</td>\n",
       "      <td>1.563652</td>\n",
       "      <td>0.951995</td>\n",
       "      <td>-0.785802</td>\n",
       "      <td>1.958421</td>\n",
       "      <td>0.288030</td>\n",
       "    </tr>\n",
       "    <tr>\n",
       "      <th>69</th>\n",
       "      <td>-1.222439</td>\n",
       "      <td>1.976183</td>\n",
       "      <td>-0.071957</td>\n",
       "      <td>-4.125621</td>\n",
       "      <td>0.682904</td>\n",
       "      <td>0.428409</td>\n",
       "      <td>-1.053350</td>\n",
       "      <td>2.145493</td>\n",
       "      <td>0.901815</td>\n",
       "    </tr>\n",
       "    <tr>\n",
       "      <th>70</th>\n",
       "      <td>-1.222441</td>\n",
       "      <td>1.969163</td>\n",
       "      <td>-0.491556</td>\n",
       "      <td>-5.144446</td>\n",
       "      <td>0.688359</td>\n",
       "      <td>0.582532</td>\n",
       "      <td>-1.143828</td>\n",
       "      <td>1.909249</td>\n",
       "      <td>0.120091</td>\n",
       "    </tr>\n",
       "    <tr>\n",
       "      <th>72</th>\n",
       "      <td>-1.222439</td>\n",
       "      <td>1.997176</td>\n",
       "      <td>-0.413286</td>\n",
       "      <td>-5.239872</td>\n",
       "      <td>0.078443</td>\n",
       "      <td>-0.254768</td>\n",
       "      <td>-1.078828</td>\n",
       "      <td>2.294652</td>\n",
       "      <td>0.308065</td>\n",
       "    </tr>\n",
       "    <tr>\n",
       "      <th>74</th>\n",
       "      <td>-1.222440</td>\n",
       "      <td>1.993489</td>\n",
       "      <td>-0.090558</td>\n",
       "      <td>-4.731746</td>\n",
       "      <td>1.597505</td>\n",
       "      <td>1.005867</td>\n",
       "      <td>-1.094256</td>\n",
       "      <td>2.279797</td>\n",
       "      <td>0.478878</td>\n",
       "    </tr>\n",
       "    <tr>\n",
       "      <th>75</th>\n",
       "      <td>-1.222438</td>\n",
       "      <td>1.992735</td>\n",
       "      <td>-0.069827</td>\n",
       "      <td>-4.353824</td>\n",
       "      <td>0.265207</td>\n",
       "      <td>-0.219056</td>\n",
       "      <td>-0.855691</td>\n",
       "      <td>2.202377</td>\n",
       "      <td>0.735185</td>\n",
       "    </tr>\n",
       "    <tr>\n",
       "      <th>76</th>\n",
       "      <td>-1.222439</td>\n",
       "      <td>1.994664</td>\n",
       "      <td>-0.168571</td>\n",
       "      <td>-2.700019</td>\n",
       "      <td>1.318389</td>\n",
       "      <td>0.629554</td>\n",
       "      <td>-0.879070</td>\n",
       "      <td>2.281381</td>\n",
       "      <td>0.528672</td>\n",
       "    </tr>\n",
       "    <tr>\n",
       "      <th>77</th>\n",
       "      <td>-1.222438</td>\n",
       "      <td>1.997922</td>\n",
       "      <td>-0.495967</td>\n",
       "      <td>-4.155861</td>\n",
       "      <td>0.650201</td>\n",
       "      <td>0.438249</td>\n",
       "      <td>-0.707166</td>\n",
       "      <td>1.747555</td>\n",
       "      <td>0.720990</td>\n",
       "    </tr>\n",
       "    <tr>\n",
       "      <th>78</th>\n",
       "      <td>-1.222438</td>\n",
       "      <td>1.971123</td>\n",
       "      <td>-0.206903</td>\n",
       "      <td>0.096739</td>\n",
       "      <td>0.408297</td>\n",
       "      <td>0.279250</td>\n",
       "      <td>-1.070164</td>\n",
       "      <td>1.747555</td>\n",
       "      <td>0.395348</td>\n",
       "    </tr>\n",
       "    <tr>\n",
       "      <th>79</th>\n",
       "      <td>-1.222437</td>\n",
       "      <td>1.995979</td>\n",
       "      <td>-0.092524</td>\n",
       "      <td>-4.010109</td>\n",
       "      <td>0.688609</td>\n",
       "      <td>0.424035</td>\n",
       "      <td>-1.326642</td>\n",
       "      <td>2.258824</td>\n",
       "      <td>0.533951</td>\n",
       "    </tr>\n",
       "    <tr>\n",
       "      <th>80</th>\n",
       "      <td>-1.222439</td>\n",
       "      <td>1.993603</td>\n",
       "      <td>-0.106672</td>\n",
       "      <td>-4.605808</td>\n",
       "      <td>0.196175</td>\n",
       "      <td>-0.509944</td>\n",
       "      <td>-0.758031</td>\n",
       "      <td>2.095228</td>\n",
       "      <td>0.546678</td>\n",
       "    </tr>\n",
       "    <tr>\n",
       "      <th>81</th>\n",
       "      <td>-1.222436</td>\n",
       "      <td>1.969289</td>\n",
       "      <td>-0.685179</td>\n",
       "      <td>-2.171871</td>\n",
       "      <td>-0.054092</td>\n",
       "      <td>-0.344880</td>\n",
       "      <td>-0.800435</td>\n",
       "      <td>2.032788</td>\n",
       "      <td>0.708998</td>\n",
       "    </tr>\n",
       "  </tbody>\n",
       "</table>\n",
       "</div>"
      ],
      "text/plain": [
       "            motor_speed_min  motor_speed_max  motor_speed_mean  ambient_min  \\\n",
       "profile_id                                                                    \n",
       "4                 -1.222434         2.024164          0.229409    -1.658480   \n",
       "6                 -1.222586         1.483038          0.641857    -3.698899   \n",
       "10                -1.239020         2.022567         -0.180202    -2.749857   \n",
       "11                -1.222436         1.990795         -0.077584    -1.638794   \n",
       "20                -1.222435         1.888867          0.288956    -2.748476   \n",
       "27                -1.222437         1.942964          0.190105    -2.749854   \n",
       "29                -1.222441         2.007902          0.333338    -3.067714   \n",
       "30                -1.222436        -0.161881         -0.791759    -3.077688   \n",
       "36                -1.222432        -0.248458         -0.777123    -3.512863   \n",
       "43                -1.222436         1.483032         -0.341555    -2.204334   \n",
       "44                -1.222436         1.753589         -0.156351    -8.573954   \n",
       "45                -1.222437         1.483040         -0.315664    -1.409355   \n",
       "46                -1.186270         1.971146          0.198407    -0.975373   \n",
       "47                -1.222428         1.971411          0.193196    -1.847214   \n",
       "48                -1.222434         2.011236          0.266787    -3.344592   \n",
       "49                -1.222433         2.007157          0.250967    -0.857257   \n",
       "50                -1.201159         2.007095          0.253054    -4.459566   \n",
       "53                -1.194978         1.992377          0.394331    -3.197893   \n",
       "54                -1.222353         1.985970          0.325831    -0.245408   \n",
       "55                -1.222413         1.985965          0.325684    -1.089932   \n",
       "56                -1.222183         2.014061          0.054986    -2.750342   \n",
       "57                -1.222370         1.992713          0.137142    -0.497148   \n",
       "58                -1.222427         1.995248          0.438874    -2.159739   \n",
       "59                -1.222433         1.968252          0.246395    -3.842818   \n",
       "60                -1.222438         1.970819         -0.007280    -5.092406   \n",
       "63                -1.222437         1.994525         -0.169385    -0.795984   \n",
       "64                -1.222436         1.958625          0.097176    -0.925704   \n",
       "65                -1.222440         2.002607         -0.075467    -3.956958   \n",
       "66                -1.222442         2.011761         -0.207696    -4.626428   \n",
       "67                -1.222435         1.969274         -0.106221    -0.937568   \n",
       "68                -1.222439         1.994083         -0.079778    -5.775765   \n",
       "69                -1.222439         1.976183         -0.071957    -4.125621   \n",
       "70                -1.222441         1.969163         -0.491556    -5.144446   \n",
       "72                -1.222439         1.997176         -0.413286    -5.239872   \n",
       "74                -1.222440         1.993489         -0.090558    -4.731746   \n",
       "75                -1.222438         1.992735         -0.069827    -4.353824   \n",
       "76                -1.222439         1.994664         -0.168571    -2.700019   \n",
       "77                -1.222438         1.997922         -0.495967    -4.155861   \n",
       "78                -1.222438         1.971123         -0.206903     0.096739   \n",
       "79                -1.222437         1.995979         -0.092524    -4.010109   \n",
       "80                -1.222439         1.993603         -0.106672    -4.605808   \n",
       "81                -1.222436         1.969289         -0.685179    -2.171871   \n",
       "\n",
       "            ambient_max  ambient_mean  coolant_min  coolant_max  coolant_mean  \n",
       "profile_id                                                                     \n",
       "4              0.642002     -0.273821    -1.156575    -1.012797     -1.070574  \n",
       "6              2.712510      0.299181    -1.288667     1.110164     -0.604543  \n",
       "10            -0.814454     -1.384847    -1.121212    -1.006354     -1.066007  \n",
       "11            -0.620139     -1.012383    -1.121654    -1.033721     -1.074153  \n",
       "20             2.967117      0.003994    -1.206490     1.094156     -0.427462  \n",
       "27             1.512007     -0.571209    -1.127431    -1.028242     -1.064425  \n",
       "29            -0.009170     -1.568119    -1.135779    -0.993685     -1.052842  \n",
       "30            -1.011824     -2.078161    -1.161648    -1.038190     -1.072176  \n",
       "36            -1.628599     -2.746647    -1.109705    -0.922242     -1.058847  \n",
       "43            -0.207098     -0.941903    -1.158274     0.393226     -0.424943  \n",
       "44             0.686980     -0.395137    -1.429349     2.271667      0.410105  \n",
       "45             0.620481     -0.258303    -0.699153     2.055856      0.910573  \n",
       "46             0.103983     -0.434080     2.165083     2.179865      2.174367  \n",
       "47             0.267697     -0.424873     0.019119     0.336751      0.325356  \n",
       "48             0.696730      0.058806    -0.303326     0.346973      0.326350  \n",
       "49             0.702822      0.398166     0.115610     0.351687      0.333999  \n",
       "50             0.845379      0.538290    -1.231942    -0.093450     -0.373865  \n",
       "53             2.081189      0.972138    -1.112287     1.319804     -0.226953  \n",
       "54             1.494669      0.733277    -0.539601     0.726296     -0.035642  \n",
       "55             0.687105      0.105405    -0.433623     2.283149      0.135423  \n",
       "56             1.605528      0.950433    -1.127595     2.181989      0.734889  \n",
       "57             1.851291      0.437317    -0.805820     2.004410      0.462783  \n",
       "58             2.681774      1.436411    -0.949885     2.277566      0.573195  \n",
       "59             0.974492      0.576673    -1.175053     2.649032      0.620011  \n",
       "60             1.570158      0.667057    -1.025360     2.262038      0.365130  \n",
       "63             0.684689      0.228938    -1.125727     2.297221      0.465845  \n",
       "64             0.233241      0.003902    -0.659209     0.444391     -0.010615  \n",
       "65             1.553845      0.705592    -1.130524     2.158068      0.193686  \n",
       "66             0.723836      0.499345    -1.169556     2.287928      0.607537  \n",
       "67             0.642769      0.499850    -0.826950    -0.642189     -0.675403  \n",
       "68             1.563652      0.951995    -0.785802     1.958421      0.288030  \n",
       "69             0.682904      0.428409    -1.053350     2.145493      0.901815  \n",
       "70             0.688359      0.582532    -1.143828     1.909249      0.120091  \n",
       "72             0.078443     -0.254768    -1.078828     2.294652      0.308065  \n",
       "74             1.597505      1.005867    -1.094256     2.279797      0.478878  \n",
       "75             0.265207     -0.219056    -0.855691     2.202377      0.735185  \n",
       "76             1.318389      0.629554    -0.879070     2.281381      0.528672  \n",
       "77             0.650201      0.438249    -0.707166     1.747555      0.720990  \n",
       "78             0.408297      0.279250    -1.070164     1.747555      0.395348  \n",
       "79             0.688609      0.424035    -1.326642     2.258824      0.533951  \n",
       "80             0.196175     -0.509944    -0.758031     2.095228      0.546678  \n",
       "81            -0.054092     -0.344880    -0.800435     2.032788      0.708998  "
      ]
     },
     "execution_count": 6,
     "metadata": {},
     "output_type": "execute_result"
    }
   ],
   "source": [
    "aggregations= {\n",
    "    'motor_speed':[min,max,\"mean\"],\n",
    "    'ambient':[min,max,\"mean\"],\n",
    "    'coolant':[min,max,\"mean\"]\n",
    "}\n",
    "grouped_agg=train_df.groupby(['profile_id']).agg(aggregations) \n",
    "grouped_agg.columns = [\"_\".join(x) for x in grouped_agg.columns.ravel()]\n",
    "grouped_agg"
   ]
  },
  {
   "cell_type": "markdown",
   "metadata": {},
   "source": [
    "### Boxplot of Motor Speed over all Profile ID"
   ]
  },
  {
   "cell_type": "code",
   "execution_count": 7,
   "metadata": {},
   "outputs": [
    {
     "data": {
      "image/png": "[encoded data removed]",
      "text/plain": [
       "<Figure size 2520x1152 with 1 Axes>"
      ]
     },
     "metadata": {
      "needs_background": "light"
     },
     "output_type": "display_data"
    }
   ],
   "source": [
    "#motor_speed\n",
    "#grouped=train_df[['motor_speed','profile_id']].groupby(['profile_id'])\n",
    "#grouped.boxplot(rot=45,fontsize=12, figsize=(8,10))\n",
    "#plt.pyplot.figure(figsize=(50,30))\n",
    "train_df.boxplot(column=['motor_speed'],by=['profile_id'],fontsize=14,figsize=(35,16))\n",
    "plt.pyplot.show()\n",
    "#sns.boxplot(train_df[['motor_speed']])"
   ]
  },
  {
   "cell_type": "markdown",
   "metadata": {},
   "source": [
    "### Boxplot of Ambient over all Profile ID"
   ]
  },
  {
   "cell_type": "code",
   "execution_count": 8,
   "metadata": {},
   "outputs": [
    {
     "data": {
      "image/png": "[encoded data removed]",
      "text/plain": [
       "<Figure size 2520x1152 with 1 Axes>"
      ]
     },
     "metadata": {
      "needs_background": "light"
     },
     "output_type": "display_data"
    }
   ],
   "source": [
    "train_df.boxplot(column=['ambient'],by=['profile_id'],fontsize=14,figsize=(35,16))\n",
    "plt.pyplot.show()"
   ]
  },
  {
   "cell_type": "markdown",
   "metadata": {},
   "source": [
    "### Boxplot of Ambient - Training Dataset"
   ]
  },
  {
   "cell_type": "code",
   "execution_count": 9,
   "metadata": {},
   "outputs": [
    {
     "data": {
      "text/plain": [
       "<matplotlib.axes._subplots.AxesSubplot at 0x7f05f5ef3f90>"
      ]
     },
     "execution_count": 9,
     "metadata": {},
     "output_type": "execute_result"
    },
    {
     "data": {
      "image/png": "[encoded data removed]",
      "text/plain": [
       "<Figure size 432x288 with 1 Axes>"
      ]
     },
     "metadata": {
      "needs_background": "light"
     },
     "output_type": "display_data"
    }
   ],
   "source": [
    "sns.boxplot(train_df[['ambient']])"
   ]
  },
  {
   "cell_type": "markdown",
   "metadata": {},
   "source": [
    "### Boxplot of Ambient - Test Dataset"
   ]
  },
  {
   "cell_type": "code",
   "execution_count": 10,
   "metadata": {},
   "outputs": [
    {
     "data": {
      "text/plain": [
       "<matplotlib.axes._subplots.AxesSubplot at 0x7f05f46b1c10>"
      ]
     },
     "execution_count": 10,
     "metadata": {},
     "output_type": "execute_result"
    },
    {
     "data": {
      "image/png": "[encoded data removed]",
      "text/plain": [
       "<Figure size 432x288 with 1 Axes>"
      ]
     },
     "metadata": {
      "needs_background": "light"
     },
     "output_type": "display_data"
    }
   ],
   "source": [
    "sns.boxplot(test_df[['ambient']])"
   ]
  },
  {
   "cell_type": "markdown",
   "metadata": {},
   "source": [
    "### Remove outliers based on Ambient"
   ]
  },
  {
   "cell_type": "code",
   "execution_count": 11,
   "metadata": {},
   "outputs": [
    {
     "name": "stdout",
     "output_type": "stream",
     "text": [
      "-1.8957146974999999\n",
      "2.2386261625\n"
     ]
    }
   ],
   "source": [
    "Q1 = np.percentile(train_df[['ambient']], 25, interpolation = 'midpoint') \n",
    "Q3 = np.percentile(train_df[['ambient']], 75, interpolation = 'midpoint') \n",
    "IQR = Q3 - Q1 \n",
    "max= Q3+ (1.5* IQR)\n",
    "min = Q1-(1.5* IQR)\n",
    "print(min)\n",
    "print(max) "
   ]
  },
  {
   "cell_type": "code",
   "execution_count": 12,
   "metadata": {},
   "outputs": [
    {
     "name": "stdout",
     "output_type": "stream",
     "text": [
      "2.45072543125 - -3.79641317875\n",
      "ambient   -5.060825\n",
      "dtype: float64\n",
      "ambient    1.435016\n",
      "dtype: float64\n"
     ]
    }
   ],
   "source": [
    "Q1 = np.percentile(test_df[['ambient']], 25, interpolation = 'midpoint') \n",
    "Q3 = np.percentile(test_df[['ambient']], 75, interpolation = 'midpoint') \n",
    "IQR = Q3 - Q1 \n",
    "max = Q3+ (1.5* IQR)\n",
    "min = Q1-(1.5* IQR)\n",
    "u_limit= Q3+ (1.5* IQR)\n",
    "l_limit= test_df[['ambient']].min()\n",
    "print(max,\"-\",min) \n",
    "print(test_df[['ambient']].min())\n",
    "print(test_df[['ambient']].max())"
   ]
  },
  {
   "cell_type": "code",
   "execution_count": 13,
   "metadata": {},
   "outputs": [
    {
     "data": {
      "text/plain": [
       "(846368, 13)"
      ]
     },
     "execution_count": 13,
     "metadata": {},
     "output_type": "execute_result"
    }
   ],
   "source": [
    "#check shape before filter\n",
    "train_df.shape"
   ]
  },
  {
   "cell_type": "code",
   "execution_count": 14,
   "metadata": {},
   "outputs": [
    {
     "data": {
      "text/plain": [
       "(845669, 13)"
      ]
     },
     "execution_count": 14,
     "metadata": {},
     "output_type": "execute_result"
    }
   ],
   "source": [
    "cond1 = train_df['ambient'] <=u_limit\n",
    "cond2 = train_df['ambient'] >=l_limit.at['ambient']\n",
    "allcond= cond1 & cond2\n",
    "train_df=train_df[allcond]\n",
    "#shape after filter\n",
    "train_df.shape"
   ]
  },
  {
   "cell_type": "markdown",
   "metadata": {},
   "source": [
    "### Boxplot of Coolant"
   ]
  },
  {
   "cell_type": "code",
   "execution_count": 15,
   "metadata": {},
   "outputs": [
    {
     "data": {
      "image/png": "[encoded data removed]",
      "text/plain": [
       "<Figure size 2520x1152 with 1 Axes>"
      ]
     },
     "metadata": {
      "needs_background": "light"
     },
     "output_type": "display_data"
    }
   ],
   "source": [
    "train_df.boxplot(column=['coolant'],by=['profile_id'],fontsize=14,figsize=(35,16))\n",
    "plt.pyplot.show()"
   ]
  },
  {
   "cell_type": "code",
   "execution_count": 16,
   "metadata": {},
   "outputs": [
    {
     "data": {
      "text/plain": [
       "<matplotlib.axes._subplots.AxesSubplot at 0x7f05f5fbcb10>"
      ]
     },
     "execution_count": 16,
     "metadata": {},
     "output_type": "execute_result"
    },
    {
     "data": {
      "image/png": "[encoded data removed]",
      "text/plain": [
       "<Figure size 432x288 with 1 Axes>"
      ]
     },
     "metadata": {
      "needs_background": "light"
     },
     "output_type": "display_data"
    }
   ],
   "source": [
    "sns.boxplot(train_df[['coolant']])"
   ]
  },
  {
   "cell_type": "code",
   "execution_count": 17,
   "metadata": {},
   "outputs": [],
   "source": [
    "#remove profile_id from traning dataset\n",
    "train_df.drop(labels=['profile_id'],axis=1,inplace=True)\n"
   ]
  },
  {
   "cell_type": "markdown",
   "metadata": {},
   "source": [
    "### Histogram of all Columns"
   ]
  },
  {
   "cell_type": "code",
   "execution_count": 18,
   "metadata": {},
   "outputs": [],
   "source": [
    "test_df_temp=pd.concat([test_df,test_true],axis=1)"
   ]
  },
  {
   "cell_type": "code",
   "execution_count": 19,
   "metadata": {},
   "outputs": [
    {
     "data": {
      "text/plain": [
       "array([[<matplotlib.axes._subplots.AxesSubplot object at 0x7f05f6498350>,\n",
       "        <matplotlib.axes._subplots.AxesSubplot object at 0x7f05f5f996d0>,\n",
       "        <matplotlib.axes._subplots.AxesSubplot object at 0x7f05f6452d50>],\n",
       "       [<matplotlib.axes._subplots.AxesSubplot object at 0x7f05f652d410>,\n",
       "        <matplotlib.axes._subplots.AxesSubplot object at 0x7f05f601fa90>,\n",
       "        <matplotlib.axes._subplots.AxesSubplot object at 0x7f05f6720150>],\n",
       "       [<matplotlib.axes._subplots.AxesSubplot object at 0x7f05f67e7850>,\n",
       "        <matplotlib.axes._subplots.AxesSubplot object at 0x7f05f62c3910>,\n",
       "        <matplotlib.axes._subplots.AxesSubplot object at 0x7f05f62c3950>],\n",
       "       [<matplotlib.axes._subplots.AxesSubplot object at 0x7f05f6165fd0>,\n",
       "        <matplotlib.axes._subplots.AxesSubplot object at 0x7f05f6143a10>,\n",
       "        <matplotlib.axes._subplots.AxesSubplot object at 0x7f05f67abf90>]],\n",
       "      dtype=object)"
      ]
     },
     "execution_count": 19,
     "metadata": {},
     "output_type": "execute_result"
    },
    {
     "data": {
      "image/png": "[encoded data removed]",
      "text/plain": [
       "<Figure size 1008x1152 with 12 Axes>"
      ]
     },
     "metadata": {
      "needs_background": "light"
     },
     "output_type": "display_data"
    }
   ],
   "source": [
    "#Distribution plots of train dataset\n",
    "n= len(train_df.columns)\n",
    "   \n",
    "train_df.hist(figsize= (14,16))"
   ]
  },
  {
   "cell_type": "code",
   "execution_count": 20,
   "metadata": {},
   "outputs": [
    {
     "data": {
      "text/plain": [
       "array([[<matplotlib.axes._subplots.AxesSubplot object at 0x7f05f6264490>,\n",
       "        <matplotlib.axes._subplots.AxesSubplot object at 0x7f05f60df710>,\n",
       "        <matplotlib.axes._subplots.AxesSubplot object at 0x7f05f606e410>],\n",
       "       [<matplotlib.axes._subplots.AxesSubplot object at 0x7f05f435e990>,\n",
       "        <matplotlib.axes._subplots.AxesSubplot object at 0x7f05f4393f10>,\n",
       "        <matplotlib.axes._subplots.AxesSubplot object at 0x7f05f43564d0>],\n",
       "       [<matplotlib.axes._subplots.AxesSubplot object at 0x7f05f5f94b90>,\n",
       "        <matplotlib.axes._subplots.AxesSubplot object at 0x7f05f42f8f50>,\n",
       "        <matplotlib.axes._subplots.AxesSubplot object at 0x7f05f61e4a50>],\n",
       "       [<matplotlib.axes._subplots.AxesSubplot object at 0x7f05f68b0810>,\n",
       "        <matplotlib.axes._subplots.AxesSubplot object at 0x7f05f63b29d0>,\n",
       "        <matplotlib.axes._subplots.AxesSubplot object at 0x7f05f5fc90d0>]],\n",
       "      dtype=object)"
      ]
     },
     "execution_count": 20,
     "metadata": {},
     "output_type": "execute_result"
    },
    {
     "data": {
      "image/png": "[encoded data removed]",
      "text/plain": [
       "<Figure size 1008x1152 with 12 Axes>"
      ]
     },
     "metadata": {
      "needs_background": "light"
     },
     "output_type": "display_data"
    }
   ],
   "source": [
    "#distribution plot of test dataset\n",
    "test_df_temp.hist(figsize= (14,16))    "
   ]
  },
  {
   "cell_type": "markdown",
   "metadata": {},
   "source": [
    "### Check for skewness"
   ]
  },
  {
   "cell_type": "code",
   "execution_count": 21,
   "metadata": {},
   "outputs": [
    {
     "name": "stdout",
     "output_type": "stream",
     "text": [
      "\n",
      "Skew in numerical features: \n",
      "\n"
     ]
    },
    {
     "data": {
      "text/html": [
       "<div>\n",
       "<style scoped>\n",
       "    .dataframe tbody tr th:only-of-type {\n",
       "        vertical-align: middle;\n",
       "    }\n",
       "\n",
       "    .dataframe tbody tr th {\n",
       "        vertical-align: top;\n",
       "    }\n",
       "\n",
       "    .dataframe thead th {\n",
       "        text-align: right;\n",
       "    }\n",
       "</style>\n",
       "<table border=\"1\" class=\"dataframe\">\n",
       "  <thead>\n",
       "    <tr style=\"text-align: right;\">\n",
       "      <th></th>\n",
       "      <th>Skew</th>\n",
       "    </tr>\n",
       "  </thead>\n",
       "  <tbody>\n",
       "    <tr>\n",
       "      <th>coolant</th>\n",
       "      <td>0.593155</td>\n",
       "    </tr>\n",
       "    <tr>\n",
       "      <th>motor_speed</th>\n",
       "      <td>0.352821</td>\n",
       "    </tr>\n",
       "    <tr>\n",
       "      <th>stator_yoke</th>\n",
       "      <td>0.223700</td>\n",
       "    </tr>\n",
       "    <tr>\n",
       "      <th>u_q</th>\n",
       "      <td>0.183117</td>\n",
       "    </tr>\n",
       "    <tr>\n",
       "      <th>u_d</th>\n",
       "      <td>0.162329</td>\n",
       "    </tr>\n",
       "    <tr>\n",
       "      <th>torque</th>\n",
       "      <td>0.022229</td>\n",
       "    </tr>\n",
       "    <tr>\n",
       "      <th>i_q</th>\n",
       "      <td>-0.014421</td>\n",
       "    </tr>\n",
       "    <tr>\n",
       "      <th>stator_winding</th>\n",
       "      <td>-0.038848</td>\n",
       "    </tr>\n",
       "    <tr>\n",
       "      <th>stator_tooth</th>\n",
       "      <td>-0.075103</td>\n",
       "    </tr>\n",
       "    <tr>\n",
       "      <th>pm</th>\n",
       "      <td>-0.213798</td>\n",
       "    </tr>\n",
       "  </tbody>\n",
       "</table>\n",
       "</div>"
      ],
      "text/plain": [
       "                    Skew\n",
       "coolant         0.593155\n",
       "motor_speed     0.352821\n",
       "stator_yoke     0.223700\n",
       "u_q             0.183117\n",
       "u_d             0.162329\n",
       "torque          0.022229\n",
       "i_q            -0.014421\n",
       "stator_winding -0.038848\n",
       "stator_tooth   -0.075103\n",
       "pm             -0.213798"
      ]
     },
     "execution_count": 21,
     "metadata": {},
     "output_type": "execute_result"
    }
   ],
   "source": [
    "numeric_feats = train_df.dtypes[train_df.dtypes != \"object\"].index\n",
    "\n",
    "# Check the skew of all numerical features\n",
    "skewed_feats = train_df[numeric_feats].apply(lambda x: skew(x.dropna())).sort_values(ascending=False)\n",
    "print(\"\\nSkew in numerical features: \\n\")\n",
    "skewness = pd.DataFrame({'Skew' :skewed_feats})\n",
    "skewness.head(10)"
   ]
  },
  {
   "cell_type": "markdown",
   "metadata": {},
   "source": [
    "### Correlation plot"
   ]
  },
  {
   "cell_type": "code",
   "execution_count": 22,
   "metadata": {},
   "outputs": [
    {
     "data": {
      "text/plain": [
       "<matplotlib.axes._subplots.AxesSubplot at 0x7f05f4439890>"
      ]
     },
     "execution_count": 22,
     "metadata": {},
     "output_type": "execute_result"
    },
    {
     "data": {
      "image/png": "[encoded data removed]",
      "text/plain": [
       "<Figure size 1008x432 with 2 Axes>"
      ]
     },
     "metadata": {
      "needs_background": "light"
     },
     "output_type": "display_data"
    }
   ],
   "source": [
    "#training dataset\n",
    "plt.pyplot.figure(figsize=(14,6))\n",
    "correlation_matrix=np.tril(train_df.corr())\n",
    "sns.heatmap(train_df.corr(),annot=True,fmt='.2g' ,mask=correlation_matrix)"
   ]
  },
  {
   "cell_type": "code",
   "execution_count": 23,
   "metadata": {},
   "outputs": [
    {
     "data": {
      "text/plain": [
       "<matplotlib.axes._subplots.AxesSubplot at 0x7f05f419bad0>"
      ]
     },
     "execution_count": 23,
     "metadata": {},
     "output_type": "execute_result"
    },
    {
     "data": {
      "image/png": "[encoded data removed]",
      "text/plain": [
       "<Figure size 1008x432 with 2 Axes>"
      ]
     },
     "metadata": {
      "needs_background": "light"
     },
     "output_type": "display_data"
    }
   ],
   "source": [
    "#test dataset\n",
    "plt.pyplot.figure(figsize=(14,6))\n",
    "correlation_matrix_test=np.tril(test_df_temp.corr())\n",
    "sns.heatmap(test_df_temp.corr(),annot=True,fmt='.2g' ,mask=correlation_matrix_test)"
   ]
  },
  {
   "cell_type": "markdown",
   "metadata": {},
   "source": [
    "## Train/Validation split"
   ]
  },
  {
   "cell_type": "code",
   "execution_count": 24,
   "metadata": {},
   "outputs": [],
   "source": [
    "test_temp,train_temp=train_test_split(test_df_temp,test_size=0.3,shuffle=True, random_state=1)"
   ]
  },
  {
   "cell_type": "code",
   "execution_count": 25,
   "metadata": {},
   "outputs": [],
   "source": [
    "test_temp,val_temp=train_test_split(test_temp,test_size=0.4,shuffle=True, random_state=1)"
   ]
  },
  {
   "cell_type": "code",
   "execution_count": 26,
   "metadata": {},
   "outputs": [
    {
     "data": {
      "text/plain": [
       "(21399, 12)"
      ]
     },
     "execution_count": 26,
     "metadata": {},
     "output_type": "execute_result"
    }
   ],
   "source": [
    "val_temp.shape"
   ]
  },
  {
   "cell_type": "code",
   "execution_count": 27,
   "metadata": {},
   "outputs": [],
   "source": [
    "train_df=pd.concat([train_df,train_temp])"
   ]
  },
  {
   "cell_type": "code",
   "execution_count": 28,
   "metadata": {},
   "outputs": [
    {
     "data": {
      "text/plain": [
       "(868596, 12)"
      ]
     },
     "execution_count": 28,
     "metadata": {},
     "output_type": "execute_result"
    }
   ],
   "source": [
    "train_df.shape"
   ]
  },
  {
   "cell_type": "code",
   "execution_count": 29,
   "metadata": {},
   "outputs": [
    {
     "data": {
      "text/plain": [
       "array([[<matplotlib.axes._subplots.AxesSubplot object at 0x7f05f44b94d0>,\n",
       "        <matplotlib.axes._subplots.AxesSubplot object at 0x7f05d249f8d0>,\n",
       "        <matplotlib.axes._subplots.AxesSubplot object at 0x7f05d7241d90>],\n",
       "       [<matplotlib.axes._subplots.AxesSubplot object at 0x7f05d7205350>,\n",
       "        <matplotlib.axes._subplots.AxesSubplot object at 0x7f05d71ba8d0>,\n",
       "        <matplotlib.axes._subplots.AxesSubplot object at 0x7f05d7170e50>],\n",
       "       [<matplotlib.axes._subplots.AxesSubplot object at 0x7f05d7133490>,\n",
       "        <matplotlib.axes._subplots.AxesSubplot object at 0x7f05d70e9950>,\n",
       "        <matplotlib.axes._subplots.AxesSubplot object at 0x7f05d70e9990>],\n",
       "       [<matplotlib.axes._subplots.AxesSubplot object at 0x7f05d70aa050>,\n",
       "        <matplotlib.axes._subplots.AxesSubplot object at 0x7f05d7014a50>,\n",
       "        <matplotlib.axes._subplots.AxesSubplot object at 0x7f05d7040b10>]],\n",
       "      dtype=object)"
      ]
     },
     "execution_count": 29,
     "metadata": {},
     "output_type": "execute_result"
    },
    {
     "data": {
      "image/png": "[encoded data removed]",
      "text/plain": [
       "<Figure size 1008x1152 with 12 Axes>"
      ]
     },
     "metadata": {
      "needs_background": "light"
     },
     "output_type": "display_data"
    }
   ],
   "source": [
    "train_df.hist(figsize= (14,16))"
   ]
  },
  {
   "cell_type": "code",
   "execution_count": 30,
   "metadata": {},
   "outputs": [],
   "source": [
    "## remove torque to Deal With Multicollinearity\n",
    "train_df.drop(labels=['torque'],axis=1,inplace=True)\n",
    "val_temp.drop(labels=['torque'],axis=1,inplace=True)\n",
    "test_df.drop(labels=['torque'],axis=1,inplace=True)\n",
    "\n"
   ]
  },
  {
   "cell_type": "code",
   "execution_count": 31,
   "metadata": {},
   "outputs": [
    {
     "data": {
      "text/html": [
       "<div>\n",
       "<style scoped>\n",
       "    .dataframe tbody tr th:only-of-type {\n",
       "        vertical-align: middle;\n",
       "    }\n",
       "\n",
       "    .dataframe tbody tr th {\n",
       "        vertical-align: top;\n",
       "    }\n",
       "\n",
       "    .dataframe thead th {\n",
       "        text-align: right;\n",
       "    }\n",
       "</style>\n",
       "<table border=\"1\" class=\"dataframe\">\n",
       "  <thead>\n",
       "    <tr style=\"text-align: right;\">\n",
       "      <th></th>\n",
       "      <th>ambient</th>\n",
       "      <th>coolant</th>\n",
       "      <th>u_d</th>\n",
       "      <th>u_q</th>\n",
       "      <th>motor_speed</th>\n",
       "      <th>i_d</th>\n",
       "      <th>i_q</th>\n",
       "      <th>pm</th>\n",
       "      <th>stator_yoke</th>\n",
       "      <th>stator_tooth</th>\n",
       "      <th>stator_winding</th>\n",
       "    </tr>\n",
       "  </thead>\n",
       "  <tbody>\n",
       "    <tr>\n",
       "      <th>0</th>\n",
       "      <td>-0.752143</td>\n",
       "      <td>-1.118446</td>\n",
       "      <td>0.327935</td>\n",
       "      <td>-1.297858</td>\n",
       "      <td>-1.222428</td>\n",
       "      <td>1.029572</td>\n",
       "      <td>-0.245860</td>\n",
       "      <td>-2.522071</td>\n",
       "      <td>-1.831422</td>\n",
       "      <td>-2.066143</td>\n",
       "      <td>-2.018033</td>\n",
       "    </tr>\n",
       "    <tr>\n",
       "      <th>1</th>\n",
       "      <td>-0.771263</td>\n",
       "      <td>-1.117021</td>\n",
       "      <td>0.329665</td>\n",
       "      <td>-1.297686</td>\n",
       "      <td>-1.222429</td>\n",
       "      <td>1.029509</td>\n",
       "      <td>-0.245832</td>\n",
       "      <td>-2.522418</td>\n",
       "      <td>-1.830969</td>\n",
       "      <td>-2.064859</td>\n",
       "      <td>-2.017631</td>\n",
       "    </tr>\n",
       "    <tr>\n",
       "      <th>2</th>\n",
       "      <td>-0.782892</td>\n",
       "      <td>-1.116681</td>\n",
       "      <td>0.332771</td>\n",
       "      <td>-1.301822</td>\n",
       "      <td>-1.222428</td>\n",
       "      <td>1.029448</td>\n",
       "      <td>-0.245818</td>\n",
       "      <td>-2.522673</td>\n",
       "      <td>-1.830400</td>\n",
       "      <td>-2.064073</td>\n",
       "      <td>-2.017343</td>\n",
       "    </tr>\n",
       "    <tr>\n",
       "      <th>3</th>\n",
       "      <td>-0.780935</td>\n",
       "      <td>-1.116764</td>\n",
       "      <td>0.333700</td>\n",
       "      <td>-1.301852</td>\n",
       "      <td>-1.222430</td>\n",
       "      <td>1.032845</td>\n",
       "      <td>-0.246955</td>\n",
       "      <td>-2.521639</td>\n",
       "      <td>-1.830333</td>\n",
       "      <td>-2.063137</td>\n",
       "      <td>-2.017632</td>\n",
       "    </tr>\n",
       "    <tr>\n",
       "      <th>4</th>\n",
       "      <td>-0.774043</td>\n",
       "      <td>-1.116775</td>\n",
       "      <td>0.335206</td>\n",
       "      <td>-1.303118</td>\n",
       "      <td>-1.222429</td>\n",
       "      <td>1.031807</td>\n",
       "      <td>-0.246610</td>\n",
       "      <td>-2.521900</td>\n",
       "      <td>-1.830498</td>\n",
       "      <td>-2.062795</td>\n",
       "      <td>-2.018145</td>\n",
       "    </tr>\n",
       "    <tr>\n",
       "      <th>...</th>\n",
       "      <td>...</td>\n",
       "      <td>...</td>\n",
       "      <td>...</td>\n",
       "      <td>...</td>\n",
       "      <td>...</td>\n",
       "      <td>...</td>\n",
       "      <td>...</td>\n",
       "      <td>...</td>\n",
       "      <td>...</td>\n",
       "      <td>...</td>\n",
       "      <td>...</td>\n",
       "    </tr>\n",
       "    <tr>\n",
       "      <th>11195</th>\n",
       "      <td>-1.168872</td>\n",
       "      <td>-1.050427</td>\n",
       "      <td>-1.115377</td>\n",
       "      <td>0.792591</td>\n",
       "      <td>0.941938</td>\n",
       "      <td>-0.769302</td>\n",
       "      <td>0.447383</td>\n",
       "      <td>0.110786</td>\n",
       "      <td>-0.785166</td>\n",
       "      <td>-0.517548</td>\n",
       "      <td>-0.398468</td>\n",
       "    </tr>\n",
       "    <tr>\n",
       "      <th>75555</th>\n",
       "      <td>0.688486</td>\n",
       "      <td>1.167703</td>\n",
       "      <td>2.097396</td>\n",
       "      <td>-0.033507</td>\n",
       "      <td>0.394496</td>\n",
       "      <td>-0.934021</td>\n",
       "      <td>-1.695368</td>\n",
       "      <td>1.080125</td>\n",
       "      <td>1.030856</td>\n",
       "      <td>0.910100</td>\n",
       "      <td>0.688163</td>\n",
       "    </tr>\n",
       "    <tr>\n",
       "      <th>56196</th>\n",
       "      <td>0.681706</td>\n",
       "      <td>-0.578425</td>\n",
       "      <td>-0.322072</td>\n",
       "      <td>1.594412</td>\n",
       "      <td>0.671393</td>\n",
       "      <td>0.178584</td>\n",
       "      <td>0.082054</td>\n",
       "      <td>-1.275169</td>\n",
       "      <td>-0.885058</td>\n",
       "      <td>-0.978530</td>\n",
       "      <td>-1.080349</td>\n",
       "    </tr>\n",
       "    <tr>\n",
       "      <th>35929</th>\n",
       "      <td>-0.814940</td>\n",
       "      <td>-1.049214</td>\n",
       "      <td>-1.599150</td>\n",
       "      <td>-0.586802</td>\n",
       "      <td>0.856992</td>\n",
       "      <td>-1.910549</td>\n",
       "      <td>0.798512</td>\n",
       "      <td>0.328817</td>\n",
       "      <td>-0.224949</td>\n",
       "      <td>0.398125</td>\n",
       "      <td>0.905600</td>\n",
       "    </tr>\n",
       "    <tr>\n",
       "      <th>49349</th>\n",
       "      <td>-0.089853</td>\n",
       "      <td>-0.844995</td>\n",
       "      <td>-0.657082</td>\n",
       "      <td>-0.499614</td>\n",
       "      <td>-0.681339</td>\n",
       "      <td>-0.476580</td>\n",
       "      <td>2.013809</td>\n",
       "      <td>0.424353</td>\n",
       "      <td>-0.121382</td>\n",
       "      <td>0.263549</td>\n",
       "      <td>0.638235</td>\n",
       "    </tr>\n",
       "  </tbody>\n",
       "</table>\n",
       "<p>868596 rows × 11 columns</p>\n",
       "</div>"
      ],
      "text/plain": [
       "        ambient   coolant       u_d       u_q  motor_speed       i_d  \\\n",
       "0     -0.752143 -1.118446  0.327935 -1.297858    -1.222428  1.029572   \n",
       "1     -0.771263 -1.117021  0.329665 -1.297686    -1.222429  1.029509   \n",
       "2     -0.782892 -1.116681  0.332771 -1.301822    -1.222428  1.029448   \n",
       "3     -0.780935 -1.116764  0.333700 -1.301852    -1.222430  1.032845   \n",
       "4     -0.774043 -1.116775  0.335206 -1.303118    -1.222429  1.031807   \n",
       "...         ...       ...       ...       ...          ...       ...   \n",
       "11195 -1.168872 -1.050427 -1.115377  0.792591     0.941938 -0.769302   \n",
       "75555  0.688486  1.167703  2.097396 -0.033507     0.394496 -0.934021   \n",
       "56196  0.681706 -0.578425 -0.322072  1.594412     0.671393  0.178584   \n",
       "35929 -0.814940 -1.049214 -1.599150 -0.586802     0.856992 -1.910549   \n",
       "49349 -0.089853 -0.844995 -0.657082 -0.499614    -0.681339 -0.476580   \n",
       "\n",
       "            i_q        pm  stator_yoke  stator_tooth  stator_winding  \n",
       "0     -0.245860 -2.522071    -1.831422     -2.066143       -2.018033  \n",
       "1     -0.245832 -2.522418    -1.830969     -2.064859       -2.017631  \n",
       "2     -0.245818 -2.522673    -1.830400     -2.064073       -2.017343  \n",
       "3     -0.246955 -2.521639    -1.830333     -2.063137       -2.017632  \n",
       "4     -0.246610 -2.521900    -1.830498     -2.062795       -2.018145  \n",
       "...         ...       ...          ...           ...             ...  \n",
       "11195  0.447383  0.110786    -0.785166     -0.517548       -0.398468  \n",
       "75555 -1.695368  1.080125     1.030856      0.910100        0.688163  \n",
       "56196  0.082054 -1.275169    -0.885058     -0.978530       -1.080349  \n",
       "35929  0.798512  0.328817    -0.224949      0.398125        0.905600  \n",
       "49349  2.013809  0.424353    -0.121382      0.263549        0.638235  \n",
       "\n",
       "[868596 rows x 11 columns]"
      ]
     },
     "execution_count": 31,
     "metadata": {},
     "output_type": "execute_result"
    }
   ],
   "source": [
    "train_df"
   ]
  },
  {
   "cell_type": "code",
   "execution_count": 32,
   "metadata": {},
   "outputs": [],
   "source": [
    "##Split to X,Y variables\n",
    "X_train=train_df.drop(labels=['pm','stator_yoke','stator_tooth','stator_winding'],axis=1)\n",
    "y_train = train_df[['pm','stator_yoke','stator_tooth','stator_winding']]\n",
    "X_val=val_temp.drop(labels=['pm','stator_yoke','stator_tooth','stator_winding'],axis=1)\n",
    "y_val=val_temp[['pm','stator_yoke','stator_tooth','stator_winding']]\n"
   ]
  },
  {
   "cell_type": "code",
   "execution_count": 33,
   "metadata": {},
   "outputs": [
    {
     "data": {
      "text/plain": [
       "(868596, 7)"
      ]
     },
     "execution_count": 33,
     "metadata": {},
     "output_type": "execute_result"
    }
   ],
   "source": [
    "X_train.shape"
   ]
  },
  {
   "cell_type": "code",
   "execution_count": 34,
   "metadata": {},
   "outputs": [
    {
     "data": {
      "text/plain": [
       "(21399, 7)"
      ]
     },
     "execution_count": 34,
     "metadata": {},
     "output_type": "execute_result"
    }
   ],
   "source": [
    "X_val.shape"
   ]
  },
  {
   "cell_type": "code",
   "execution_count": 35,
   "metadata": {},
   "outputs": [
    {
     "data": {
      "text/plain": [
       "0       -2.522071\n",
       "1       -2.522418\n",
       "2       -2.522673\n",
       "3       -2.521639\n",
       "4       -2.521900\n",
       "           ...   \n",
       "11195    0.110786\n",
       "75555    1.080125\n",
       "56196   -1.275169\n",
       "35929    0.328817\n",
       "49349    0.424353\n",
       "Name: pm, Length: 868596, dtype: float64"
      ]
     },
     "execution_count": 35,
     "metadata": {},
     "output_type": "execute_result"
    }
   ],
   "source": [
    "y_train.iloc[:,0]"
   ]
  },
  {
   "cell_type": "markdown",
   "metadata": {},
   "source": [
    "## Base XGBoost Model to predict multi dimensional output"
   ]
  },
  {
   "cell_type": "code",
   "execution_count": 105,
   "metadata": {},
   "outputs": [],
   "source": [
    "# define base xgboost model\n",
    "XGBmodel_base = xgboost.XGBRegressor(max_depth=4,n_estimators=500,\n",
    "                                     gamma=0.01, min_child_weight=1,\n",
    "                                     nthread = 8)\n"
   ]
  },
  {
   "cell_type": "code",
   "execution_count": null,
   "metadata": {},
   "outputs": [],
   "source": [
    "\n",
    "# define the direct multioutput wrapper model\n",
    "XGB_wrapper=MultiOutputRegressor(XGBmodel_base)"
   ]
  },
  {
   "cell_type": "code",
   "execution_count": 59,
   "metadata": {},
   "outputs": [
    {
     "data": {
      "text/plain": [
       "MultiOutputRegressor(estimator=XGBRegressor(base_score=None, booster=None,\n",
       "                                            colsample_bylevel=None,\n",
       "                                            colsample_bynode=None,\n",
       "                                            colsample_bytree=None, gamma=0.01,\n",
       "                                            gpu_id=None, importance_type='gain',\n",
       "                                            interaction_constraints=None,\n",
       "                                            learning_rate=None,\n",
       "                                            max_delta_step=None, max_depth=4,\n",
       "                                            min_child_weight=1, missing=nan,\n",
       "                                            monotone_constraints=None,\n",
       "                                            n_estimators=500, n_jobs=None,\n",
       "                                            nthread=-1, num_parallel_tree=None,\n",
       "                                            random_state=None, reg_alpha=None,\n",
       "                                            reg_lambda=None,\n",
       "                                            scale_pos_weight=None,\n",
       "                                            subsample=None, tree_method=None,\n",
       "                                            validate_parameters=None,\n",
       "                                            verbosity=None))"
      ]
     },
     "execution_count": 59,
     "metadata": {},
     "output_type": "execute_result"
    }
   ],
   "source": [
    "#fit the basic model\n",
    "XGB_wrapper.fit(X_train, y_train)"
   ]
  },
  {
   "cell_type": "code",
   "execution_count": 60,
   "metadata": {},
   "outputs": [
    {
     "data": {
      "text/html": [
       "<div>\n",
       "<style scoped>\n",
       "    .dataframe tbody tr th:only-of-type {\n",
       "        vertical-align: middle;\n",
       "    }\n",
       "\n",
       "    .dataframe tbody tr th {\n",
       "        vertical-align: top;\n",
       "    }\n",
       "\n",
       "    .dataframe thead th {\n",
       "        text-align: right;\n",
       "    }\n",
       "</style>\n",
       "<table border=\"1\" class=\"dataframe\">\n",
       "  <thead>\n",
       "    <tr style=\"text-align: right;\">\n",
       "      <th></th>\n",
       "      <th>ambient</th>\n",
       "      <th>coolant</th>\n",
       "      <th>u_d</th>\n",
       "      <th>u_q</th>\n",
       "      <th>motor_speed</th>\n",
       "      <th>i_d</th>\n",
       "      <th>i_q</th>\n",
       "    </tr>\n",
       "  </thead>\n",
       "  <tbody>\n",
       "    <tr>\n",
       "      <th>0</th>\n",
       "      <td>-0.752143</td>\n",
       "      <td>-1.118446</td>\n",
       "      <td>0.327935</td>\n",
       "      <td>-1.297858</td>\n",
       "      <td>-1.222428</td>\n",
       "      <td>1.029572</td>\n",
       "      <td>-0.245860</td>\n",
       "    </tr>\n",
       "    <tr>\n",
       "      <th>1</th>\n",
       "      <td>-0.771263</td>\n",
       "      <td>-1.117021</td>\n",
       "      <td>0.329665</td>\n",
       "      <td>-1.297686</td>\n",
       "      <td>-1.222429</td>\n",
       "      <td>1.029509</td>\n",
       "      <td>-0.245832</td>\n",
       "    </tr>\n",
       "    <tr>\n",
       "      <th>2</th>\n",
       "      <td>-0.782892</td>\n",
       "      <td>-1.116681</td>\n",
       "      <td>0.332771</td>\n",
       "      <td>-1.301822</td>\n",
       "      <td>-1.222428</td>\n",
       "      <td>1.029448</td>\n",
       "      <td>-0.245818</td>\n",
       "    </tr>\n",
       "    <tr>\n",
       "      <th>3</th>\n",
       "      <td>-0.780935</td>\n",
       "      <td>-1.116764</td>\n",
       "      <td>0.333700</td>\n",
       "      <td>-1.301852</td>\n",
       "      <td>-1.222430</td>\n",
       "      <td>1.032845</td>\n",
       "      <td>-0.246955</td>\n",
       "    </tr>\n",
       "    <tr>\n",
       "      <th>4</th>\n",
       "      <td>-0.774043</td>\n",
       "      <td>-1.116775</td>\n",
       "      <td>0.335206</td>\n",
       "      <td>-1.303118</td>\n",
       "      <td>-1.222429</td>\n",
       "      <td>1.031807</td>\n",
       "      <td>-0.246610</td>\n",
       "    </tr>\n",
       "    <tr>\n",
       "      <th>...</th>\n",
       "      <td>...</td>\n",
       "      <td>...</td>\n",
       "      <td>...</td>\n",
       "      <td>...</td>\n",
       "      <td>...</td>\n",
       "      <td>...</td>\n",
       "      <td>...</td>\n",
       "    </tr>\n",
       "    <tr>\n",
       "      <th>11195</th>\n",
       "      <td>-1.168872</td>\n",
       "      <td>-1.050427</td>\n",
       "      <td>-1.115377</td>\n",
       "      <td>0.792591</td>\n",
       "      <td>0.941938</td>\n",
       "      <td>-0.769302</td>\n",
       "      <td>0.447383</td>\n",
       "    </tr>\n",
       "    <tr>\n",
       "      <th>75555</th>\n",
       "      <td>0.688486</td>\n",
       "      <td>1.167703</td>\n",
       "      <td>2.097396</td>\n",
       "      <td>-0.033507</td>\n",
       "      <td>0.394496</td>\n",
       "      <td>-0.934021</td>\n",
       "      <td>-1.695368</td>\n",
       "    </tr>\n",
       "    <tr>\n",
       "      <th>56196</th>\n",
       "      <td>0.681706</td>\n",
       "      <td>-0.578425</td>\n",
       "      <td>-0.322072</td>\n",
       "      <td>1.594412</td>\n",
       "      <td>0.671393</td>\n",
       "      <td>0.178584</td>\n",
       "      <td>0.082054</td>\n",
       "    </tr>\n",
       "    <tr>\n",
       "      <th>35929</th>\n",
       "      <td>-0.814940</td>\n",
       "      <td>-1.049214</td>\n",
       "      <td>-1.599150</td>\n",
       "      <td>-0.586802</td>\n",
       "      <td>0.856992</td>\n",
       "      <td>-1.910549</td>\n",
       "      <td>0.798512</td>\n",
       "    </tr>\n",
       "    <tr>\n",
       "      <th>49349</th>\n",
       "      <td>-0.089853</td>\n",
       "      <td>-0.844995</td>\n",
       "      <td>-0.657082</td>\n",
       "      <td>-0.499614</td>\n",
       "      <td>-0.681339</td>\n",
       "      <td>-0.476580</td>\n",
       "      <td>2.013809</td>\n",
       "    </tr>\n",
       "  </tbody>\n",
       "</table>\n",
       "<p>868596 rows × 7 columns</p>\n",
       "</div>"
      ],
      "text/plain": [
       "        ambient   coolant       u_d       u_q  motor_speed       i_d       i_q\n",
       "0     -0.752143 -1.118446  0.327935 -1.297858    -1.222428  1.029572 -0.245860\n",
       "1     -0.771263 -1.117021  0.329665 -1.297686    -1.222429  1.029509 -0.245832\n",
       "2     -0.782892 -1.116681  0.332771 -1.301822    -1.222428  1.029448 -0.245818\n",
       "3     -0.780935 -1.116764  0.333700 -1.301852    -1.222430  1.032845 -0.246955\n",
       "4     -0.774043 -1.116775  0.335206 -1.303118    -1.222429  1.031807 -0.246610\n",
       "...         ...       ...       ...       ...          ...       ...       ...\n",
       "11195 -1.168872 -1.050427 -1.115377  0.792591     0.941938 -0.769302  0.447383\n",
       "75555  0.688486  1.167703  2.097396 -0.033507     0.394496 -0.934021 -1.695368\n",
       "56196  0.681706 -0.578425 -0.322072  1.594412     0.671393  0.178584  0.082054\n",
       "35929 -0.814940 -1.049214 -1.599150 -0.586802     0.856992 -1.910549  0.798512\n",
       "49349 -0.089853 -0.844995 -0.657082 -0.499614    -0.681339 -0.476580  2.013809\n",
       "\n",
       "[868596 rows x 7 columns]"
      ]
     },
     "execution_count": 60,
     "metadata": {},
     "output_type": "execute_result"
    }
   ],
   "source": [
    "X_train\n",
    "#X_val"
   ]
  },
  {
   "cell_type": "code",
   "execution_count": null,
   "metadata": {},
   "outputs": [],
   "source": [
    "y_hat=XGB_wrapper.predict(X_val)"
   ]
  },
  {
   "cell_type": "code",
   "execution_count": null,
   "metadata": {},
   "outputs": [
    {
     "name": "stdout",
     "output_type": "stream",
     "text": [
      "Predicted: [[-1.4635562  -0.8034029  -0.4798106   0.20261368]\n",
      " [ 0.27807713  0.6015581   0.64293927  0.5722122 ]\n",
      " [ 0.30395854 -0.71610606 -0.37702554 -0.30859095]\n",
      " ...\n",
      " [ 0.05612478 -0.17511225 -0.02456075  0.32265884]\n",
      " [ 2.083087    0.14241555  0.98801714  1.4659448 ]\n",
      " [ 1.1691017   1.2773498   1.2393343   1.1446764 ]]\n"
     ]
    }
   ],
   "source": [
    "#show predicted values\n",
    "print('Predicted: %s' % y_hat)"
   ]
  },
  {
   "cell_type": "code",
   "execution_count": null,
   "metadata": {},
   "outputs": [
    {
     "data": {
      "text/plain": [
       "0.2550594386097347"
      ]
     },
     "execution_count": 63,
     "metadata": {},
     "output_type": "execute_result"
    }
   ],
   "source": [
    "#Root Mean Squared Error\n",
    "mean_squared_error(y_val, y_hat, squared=False)"
   ]
  },
  {
   "cell_type": "code",
   "execution_count": null,
   "metadata": {},
   "outputs": [
    {
     "data": {
      "text/plain": [
       "0.0670016929306034"
      ]
     },
     "execution_count": 64,
     "metadata": {},
     "output_type": "execute_result"
    }
   ],
   "source": [
    "#Mean Squared Error\n",
    "mean_squared_error(y_val, y_hat, squared=True)"
   ]
  },
  {
   "cell_type": "code",
   "execution_count": 66,
   "metadata": {},
   "outputs": [
    {
     "data": {
      "text/plain": [
       "0.9194575804802186"
      ]
     },
     "execution_count": 66,
     "metadata": {},
     "output_type": "execute_result"
    }
   ],
   "source": [
    "#R^2\n",
    "r2_score(y_val, y_hat)"
   ]
  },
  {
   "cell_type": "code",
   "execution_count": 67,
   "metadata": {},
   "outputs": [
    {
     "data": {
      "text/html": [
       "<div>\n",
       "<style scoped>\n",
       "    .dataframe tbody tr th:only-of-type {\n",
       "        vertical-align: middle;\n",
       "    }\n",
       "\n",
       "    .dataframe tbody tr th {\n",
       "        vertical-align: top;\n",
       "    }\n",
       "\n",
       "    .dataframe thead th {\n",
       "        text-align: right;\n",
       "    }\n",
       "</style>\n",
       "<table border=\"1\" class=\"dataframe\">\n",
       "  <thead>\n",
       "    <tr style=\"text-align: right;\">\n",
       "      <th></th>\n",
       "      <th>ambient</th>\n",
       "      <th>coolant</th>\n",
       "      <th>u_d</th>\n",
       "      <th>u_q</th>\n",
       "      <th>motor_speed</th>\n",
       "      <th>i_d</th>\n",
       "      <th>i_q</th>\n",
       "    </tr>\n",
       "  </thead>\n",
       "  <tbody>\n",
       "    <tr>\n",
       "      <th>0</th>\n",
       "      <td>-2.749564</td>\n",
       "      <td>-1.073478</td>\n",
       "      <td>0.336463</td>\n",
       "      <td>-1.295874</td>\n",
       "      <td>-1.222426</td>\n",
       "      <td>1.041590</td>\n",
       "      <td>-0.250223</td>\n",
       "    </tr>\n",
       "    <tr>\n",
       "      <th>1</th>\n",
       "      <td>-2.749612</td>\n",
       "      <td>-1.072823</td>\n",
       "      <td>0.339015</td>\n",
       "      <td>-1.298281</td>\n",
       "      <td>-1.222425</td>\n",
       "      <td>1.038055</td>\n",
       "      <td>-0.248936</td>\n",
       "    </tr>\n",
       "    <tr>\n",
       "      <th>2</th>\n",
       "      <td>-2.746339</td>\n",
       "      <td>-1.073277</td>\n",
       "      <td>0.340775</td>\n",
       "      <td>-1.299160</td>\n",
       "      <td>-1.222428</td>\n",
       "      <td>1.035532</td>\n",
       "      <td>-0.248042</td>\n",
       "    </tr>\n",
       "    <tr>\n",
       "      <th>3</th>\n",
       "      <td>-2.747337</td>\n",
       "      <td>-1.074854</td>\n",
       "      <td>0.341972</td>\n",
       "      <td>-1.300307</td>\n",
       "      <td>-1.222428</td>\n",
       "      <td>1.033727</td>\n",
       "      <td>-0.247364</td>\n",
       "    </tr>\n",
       "    <tr>\n",
       "      <th>4</th>\n",
       "      <td>-2.748052</td>\n",
       "      <td>-1.076696</td>\n",
       "      <td>0.344047</td>\n",
       "      <td>-1.301804</td>\n",
       "      <td>-1.222429</td>\n",
       "      <td>1.032427</td>\n",
       "      <td>-0.246897</td>\n",
       "    </tr>\n",
       "    <tr>\n",
       "      <th>...</th>\n",
       "      <td>...</td>\n",
       "      <td>...</td>\n",
       "      <td>...</td>\n",
       "      <td>...</td>\n",
       "      <td>...</td>\n",
       "      <td>...</td>\n",
       "      <td>...</td>\n",
       "    </tr>\n",
       "    <tr>\n",
       "      <th>76418</th>\n",
       "      <td>0.688609</td>\n",
       "      <td>1.633554</td>\n",
       "      <td>0.310133</td>\n",
       "      <td>-1.277628</td>\n",
       "      <td>0.273299</td>\n",
       "      <td>1.060139</td>\n",
       "      <td>-0.257238</td>\n",
       "    </tr>\n",
       "    <tr>\n",
       "      <th>76419</th>\n",
       "      <td>0.688609</td>\n",
       "      <td>1.633553</td>\n",
       "      <td>0.310133</td>\n",
       "      <td>-1.277628</td>\n",
       "      <td>0.265776</td>\n",
       "      <td>1.060147</td>\n",
       "      <td>-0.257233</td>\n",
       "    </tr>\n",
       "    <tr>\n",
       "      <th>76420</th>\n",
       "      <td>0.688609</td>\n",
       "      <td>1.633745</td>\n",
       "      <td>0.218686</td>\n",
       "      <td>-0.949521</td>\n",
       "      <td>0.258588</td>\n",
       "      <td>1.049340</td>\n",
       "      <td>-0.229511</td>\n",
       "    </tr>\n",
       "    <tr>\n",
       "      <th>76421</th>\n",
       "      <td>0.688609</td>\n",
       "      <td>1.633884</td>\n",
       "      <td>-0.281596</td>\n",
       "      <td>-0.791881</td>\n",
       "      <td>0.327896</td>\n",
       "      <td>0.321753</td>\n",
       "      <td>0.110473</td>\n",
       "    </tr>\n",
       "    <tr>\n",
       "      <th>76422</th>\n",
       "      <td>0.688609</td>\n",
       "      <td>1.633467</td>\n",
       "      <td>-0.657517</td>\n",
       "      <td>-0.792072</td>\n",
       "      <td>0.511580</td>\n",
       "      <td>-0.342893</td>\n",
       "      <td>0.282054</td>\n",
       "    </tr>\n",
       "  </tbody>\n",
       "</table>\n",
       "<p>76423 rows × 7 columns</p>\n",
       "</div>"
      ],
      "text/plain": [
       "        ambient   coolant       u_d       u_q  motor_speed       i_d       i_q\n",
       "0     -2.749564 -1.073478  0.336463 -1.295874    -1.222426  1.041590 -0.250223\n",
       "1     -2.749612 -1.072823  0.339015 -1.298281    -1.222425  1.038055 -0.248936\n",
       "2     -2.746339 -1.073277  0.340775 -1.299160    -1.222428  1.035532 -0.248042\n",
       "3     -2.747337 -1.074854  0.341972 -1.300307    -1.222428  1.033727 -0.247364\n",
       "4     -2.748052 -1.076696  0.344047 -1.301804    -1.222429  1.032427 -0.246897\n",
       "...         ...       ...       ...       ...          ...       ...       ...\n",
       "76418  0.688609  1.633554  0.310133 -1.277628     0.273299  1.060139 -0.257238\n",
       "76419  0.688609  1.633553  0.310133 -1.277628     0.265776  1.060147 -0.257233\n",
       "76420  0.688609  1.633745  0.218686 -0.949521     0.258588  1.049340 -0.229511\n",
       "76421  0.688609  1.633884 -0.281596 -0.791881     0.327896  0.321753  0.110473\n",
       "76422  0.688609  1.633467 -0.657517 -0.792072     0.511580 -0.342893  0.282054\n",
       "\n",
       "[76423 rows x 7 columns]"
      ]
     },
     "execution_count": 67,
     "metadata": {},
     "output_type": "execute_result"
    }
   ],
   "source": [
    "test_df"
   ]
  },
  {
   "cell_type": "code",
   "execution_count": 68,
   "metadata": {},
   "outputs": [],
   "source": [
    "#predict test dataset\n",
    "y_hat_test=XGB_wrapper.predict(test_df)"
   ]
  },
  {
   "cell_type": "code",
   "execution_count": 69,
   "metadata": {},
   "outputs": [
    {
     "data": {
      "text/plain": [
       "0.3737640689460396"
      ]
     },
     "execution_count": 69,
     "metadata": {},
     "output_type": "execute_result"
    }
   ],
   "source": [
    "#Root Mean Squared Error\n",
    "mean_squared_error(test_true, y_hat_test, squared=False)"
   ]
  },
  {
   "cell_type": "code",
   "execution_count": 70,
   "metadata": {},
   "outputs": [
    {
     "data": {
      "text/plain": [
       "0.8036181790665524"
      ]
     },
     "execution_count": 70,
     "metadata": {},
     "output_type": "execute_result"
    }
   ],
   "source": [
    "#R^2\n",
    "r2_score(test_true, y_hat_test)"
   ]
  },
  {
   "cell_type": "markdown",
   "metadata": {},
   "source": [
    "## Modelling for stacked Regression"
   ]
  },
  {
   "cell_type": "code",
   "execution_count": 2,
   "metadata": {},
   "outputs": [],
   "source": [
    "#import libaries\n",
    "\n",
    "from sklearn.linear_model import ElasticNet, Lasso,  BayesianRidge, LassoLarsIC\n",
    "from sklearn.ensemble import RandomForestRegressor,  GradientBoostingRegressor\n",
    "from sklearn.kernel_ridge import KernelRidge\n",
    "from sklearn.pipeline import make_pipeline\n",
    "from sklearn.preprocessing import RobustScaler\n",
    "from sklearn.base import BaseEstimator, TransformerMixin, RegressorMixin, clone\n",
    "from sklearn.model_selection import KFold, cross_val_score, train_test_split\n",
    "from sklearn.metrics import mean_squared_error\n",
    "import xgboost as xgb\n",
    "import lightgbm as lgb\n",
    "\n"
   ]
  },
  {
   "cell_type": "code",
   "execution_count": 72,
   "metadata": {},
   "outputs": [],
   "source": [
    "#Validation function\n",
    "n_folds = 5\n",
    "\n",
    "def rmse_cv(model,X,y):\n",
    "    kf = KFold(n_folds, shuffle=True, random_state=42).get_n_splits(X.values)\n",
    "    rmse= np.sqrt(-cross_val_score(model, X.values, y, scoring=\"neg_mean_squared_error\", cv = kf))\n",
    "    return(rmse)"
   ]
  },
  {
   "cell_type": "markdown",
   "metadata": {},
   "source": [
    "### Base Models"
   ]
  },
  {
   "cell_type": "code",
   "execution_count": 73,
   "metadata": {},
   "outputs": [],
   "source": [
    "#LASSO regression\n",
    "#since teh model is sensitive to outliers we use RobustScalar() method on pipeline\n",
    "lasso_model = make_pipeline(RobustScaler(), Lasso(alpha =0.0005, random_state=1))"
   ]
  },
  {
   "cell_type": "code",
   "execution_count": 74,
   "metadata": {},
   "outputs": [],
   "source": [
    "##Elastic Net Regression\n",
    "ENet_model=make_pipeline(RobustScaler(), ElasticNet(alpha=0.0005, l1_ratio=.9, random_state=3))"
   ]
  },
  {
   "cell_type": "code",
   "execution_count": 75,
   "metadata": {},
   "outputs": [],
   "source": [
    "##Gradient Boosting Regression\n",
    "#GBoost_model = GradientBoostingRegressor(n_estimators=3000, learning_rate=0.05,\n",
    "#                                   max_depth=4, max_features='sqrt',\n",
    "#                                   min_samples_leaf=15, min_samples_split=10, \n",
    "#                                   loss='huber', random_state =5)\n",
    "#Random Forest Regressor\n",
    "RForest_model=RandomForestRegressor(n_estimators = 1000, max_depth=4, \n",
    "                                    n_jobs=-1, random_state = 5)\n"
   ]
  },
  {
   "cell_type": "code",
   "execution_count": 86,
   "metadata": {},
   "outputs": [],
   "source": [
    "##XGBoost\n",
    "XGBReg_model = xgb.XGBRegressor(colsample_bytree=0.4603, gamma=0.0468, \n",
    "                             learning_rate=0.05, max_depth=3, \n",
    "                             min_child_weight=1.7817, n_estimators=1000,\n",
    "                             reg_alpha=0.4640, reg_lambda=0.8571,\n",
    "                             subsample=0.5213,\n",
    "                             random_state =7, nthread = 8)"
   ]
  },
  {
   "cell_type": "code",
   "execution_count": null,
   "metadata": {},
   "outputs": [],
   "source": []
  },
  {
   "cell_type": "code",
   "execution_count": 77,
   "metadata": {},
   "outputs": [],
   "source": [
    "#LightGMB\n",
    "lgbmr_model = lgb.LGBMRegressor(objective='regression',num_leaves=5,\n",
    "                              learning_rate=0.05, n_estimators=720,\n",
    "                              max_bin = 55, bagging_fraction = 0.8,\n",
    "                              bagging_freq = 5, feature_fraction = 0.2319,\n",
    "                              feature_fraction_seed=9, bagging_seed=9,\n",
    "                              min_data_in_leaf =6, min_sum_hessian_in_leaf = 11)"
   ]
  },
  {
   "cell_type": "markdown",
   "metadata": {},
   "source": [
    "### Base Model Scores"
   ]
  },
  {
   "cell_type": "code",
   "execution_count": 78,
   "metadata": {},
   "outputs": [
    {
     "name": "stdout",
     "output_type": "stream",
     "text": [
      "\n",
      "Lasso score: 0.7327 (0.0841)\n",
      "\n",
      "\n",
      "Lasso score: 0.4086 (0.0226)\n",
      "\n",
      "\n",
      "Lasso score: 0.5742 (0.0411)\n",
      "\n",
      "\n",
      "Lasso score: 0.6494 (0.0568)\n",
      "\n"
     ]
    }
   ],
   "source": [
    "score1 = rmse_cv(lasso_model,X_train,y_train.iloc[:,0])\n",
    "score2 = rmse_cv(lasso_model,X_train,y_train.iloc[:,1])\n",
    "score3 = rmse_cv(lasso_model,X_train,y_train.iloc[:,2])\n",
    "score4 = rmse_cv(lasso_model,X_train,y_train.iloc[:,3])\n",
    "print(\"\\nLasso score: {:.4f} ({:.4f})\\n\".format(score1.mean(), score1.std()))\n",
    "print(\"\\nLasso score: {:.4f} ({:.4f})\\n\".format(score2.mean(), score2.std()))\n",
    "print(\"\\nLasso score: {:.4f} ({:.4f})\\n\".format(score3.mean(), score3.std()))\n",
    "print(\"\\nLasso score: {:.4f} ({:.4f})\\n\".format(score4.mean(), score4.std()))"
   ]
  },
  {
   "cell_type": "code",
   "execution_count": 79,
   "metadata": {},
   "outputs": [
    {
     "name": "stdout",
     "output_type": "stream",
     "text": [
      "\n",
      "ElasticNet score: 0.7327 (0.0840)\n",
      "\n",
      "\n",
      "ElasticNet score: 0.4086 (0.0226)\n",
      "\n",
      "\n",
      "ElasticNet score: 0.5742 (0.0412)\n",
      "\n",
      "\n",
      "ElasticNet score: 0.6493 (0.0569)\n",
      "\n"
     ]
    }
   ],
   "source": [
    "score1 = rmse_cv(ENet_model,X_train,y_train.iloc[:,0])\n",
    "score2 = rmse_cv(ENet_model,X_train,y_train.iloc[:,1])\n",
    "score3 = rmse_cv(ENet_model,X_train,y_train.iloc[:,2])\n",
    "score4 = rmse_cv(ENet_model,X_train,y_train.iloc[:,3])\n",
    "print(\"\\nElasticNet score: {:.4f} ({:.4f})\\n\".format(score1.mean(), score1.std()))\n",
    "print(\"\\nElasticNet score: {:.4f} ({:.4f})\\n\".format(score2.mean(), score2.std()))\n",
    "print(\"\\nElasticNet score: {:.4f} ({:.4f})\\n\".format(score3.mean(), score3.std()))\n",
    "print(\"\\nElasticNet score: {:.4f} ({:.4f})\\n\".format(score4.mean(), score4.std()))"
   ]
  },
  {
   "cell_type": "code",
   "execution_count": 80,
   "metadata": {},
   "outputs": [
    {
     "name": "stdout",
     "output_type": "stream",
     "text": [
      "\n",
      "Random Forest score: 0.7953 (0.1115)\n",
      "\n",
      "\n",
      "Random Forest score: 0.4299 (0.0182)\n",
      "\n",
      "\n",
      "Random Forest score: 0.5647 (0.0243)\n",
      "\n",
      "\n",
      "Random Forest score:0.6355 (0.0505)\n",
      "\n"
     ]
    }
   ],
   "source": [
    "score1 = rmse_cv(RForest_model,X_train,y_train.iloc[:,0])\n",
    "score2 = rmse_cv(RForest_model,X_train,y_train.iloc[:,1])\n",
    "score3 = rmse_cv(RForest_model,X_train,y_train.iloc[:,2])\n",
    "score4 = rmse_cv(RForest_model,X_train,y_train.iloc[:,3])\n",
    "print(\"\\nRandom Forest score: {:.4f} ({:.4f})\\n\".format(score1.mean(), score1.std()))\n",
    "print(\"\\nRandom Forest score: {:.4f} ({:.4f})\\n\".format(score2.mean(), score2.std()))\n",
    "print(\"\\nRandom Forest score: {:.4f} ({:.4f})\\n\".format(score3.mean(), score3.std()))\n",
    "print(\"\\nRandom Forest score:{:.4f} ({:.4f})\\n\".format(score4.mean(), score4.std()))\n"
   ]
  },
  {
   "cell_type": "code",
   "execution_count": 87,
   "metadata": {},
   "outputs": [
    {
     "name": "stdout",
     "output_type": "stream",
     "text": [
      "\n",
      "Xgboost score: 0.7497 (0.1178)\n",
      "\n",
      "\n",
      "Xgboost score: 0.4199 (0.0420)\n",
      "\n",
      "\n",
      "Xgboost score: 0.5603 (0.0578)\n",
      "\n",
      "\n",
      "Xgboost score: 0.6031 (0.0655)\n",
      "\n"
     ]
    }
   ],
   "source": [
    "score1 = rmse_cv(XGBReg_model,X_train,y_train.iloc[:,0])\n",
    "score2 = rmse_cv(XGBReg_model,X_train,y_train.iloc[:,1])\n",
    "score3 = rmse_cv(XGBReg_model,X_train,y_train.iloc[:,2])\n",
    "score4 = rmse_cv(XGBReg_model,X_train,y_train.iloc[:,3])\n",
    "print(\"\\nXgboost score: {:.4f} ({:.4f})\\n\".format(score1.mean(), score1.std()))\n",
    "print(\"\\nXgboost score: {:.4f} ({:.4f})\\n\".format(score2.mean(), score2.std()))\n",
    "print(\"\\nXgboost score: {:.4f} ({:.4f})\\n\".format(score3.mean(), score3.std()))\n",
    "print(\"\\nXgboost score: {:.4f} ({:.4f})\\n\".format(score4.mean(), score4.std()))\n"
   ]
  },
  {
   "cell_type": "code",
   "execution_count": 88,
   "metadata": {},
   "outputs": [
    {
     "name": "stdout",
     "output_type": "stream",
     "text": [
      "\n",
      "LGBM score: 0.7483 (0.1269)\n",
      "\n",
      "\n",
      "LGBM score: 0.3986 (0.0298)\n",
      "\n",
      "\n",
      "LGBM score: 0.5384 (0.0473)\n",
      "\n",
      "\n",
      "LGBM score: 0.5803 (0.0481)\n",
      "\n"
     ]
    }
   ],
   "source": [
    "score1 = rmse_cv(lgbmr_model,X_train,y_train.iloc[:,0])\n",
    "score2 = rmse_cv(lgbmr_model,X_train,y_train.iloc[:,1])\n",
    "score3 = rmse_cv(lgbmr_model,X_train,y_train.iloc[:,2])\n",
    "score4 = rmse_cv(lgbmr_model,X_train,y_train.iloc[:,3])\n",
    "print(\"\\nLGBM score: {:.4f} ({:.4f})\\n\".format(score1.mean(), score1.std()))\n",
    "print(\"\\nLGBM score: {:.4f} ({:.4f})\\n\".format(score2.mean(), score2.std()))\n",
    "print(\"\\nLGBM score: {:.4f} ({:.4f})\\n\".format(score3.mean(), score3.std()))\n",
    "print(\"\\nLGBM score: {:.4f} ({:.4f})\\n\".format(score4.mean(), score4.std()))\n"
   ]
  },
  {
   "cell_type": "markdown",
   "metadata": {},
   "source": [
    "### Stacking Approach - Averaging Base Models"
   ]
  },
  {
   "cell_type": "code",
   "execution_count": 89,
   "metadata": {},
   "outputs": [],
   "source": [
    "class AveragingModels(BaseEstimator, RegressorMixin, TransformerMixin):\n",
    "    def __init__(self, models):\n",
    "        self.models = models\n",
    "        \n",
    "    # we define clones of the original models to fit the data in\n",
    "    def fit(self, X, y):\n",
    "        self.models_ = [clone(x) for x in self.models]\n",
    "        \n",
    "        # Train cloned base models\n",
    "        for model in self.models_:\n",
    "            model.fit(X, y)\n",
    "\n",
    "        return self\n",
    "    \n",
    "    #Now we do the predictions for cloned models and average them\n",
    "    def predict(self, X):\n",
    "        predictions = np.column_stack([\n",
    "            model.predict(X) for model in self.models_\n",
    "        ])\n",
    "        return np.mean(predictions, axis=1)   \n",
    "\n"
   ]
  },
  {
   "cell_type": "code",
   "execution_count": 109,
   "metadata": {},
   "outputs": [
    {
     "name": "stdout",
     "output_type": "stream",
     "text": [
      " Averaged base models score: 0.7268 (0.0983)\n",
      "\n",
      " Averaged base models score: 0.3983 (0.0145)\n",
      "\n",
      " Averaged base models score: 0.5481 (0.0308)\n",
      "\n",
      " Averaged base models score: 0.6221 (0.0523)\n",
      "\n"
     ]
    }
   ],
   "source": [
    "averaged_models = AveragingModels(models = (lasso_model,ENet_model,RForest_model))\n",
    "\n",
    "score1 = rmse_cv(averaged_models,X_train,y_train.iloc[:,0])\n",
    "score2 = rmse_cv(averaged_models,X_train,y_train.iloc[:,1])\n",
    "score3 = rmse_cv(averag1ed_models,X_train,y_train.iloc[:,2])\n",
    "score4 = rmse_cv(averaged_models,X_train,y_train.iloc[:,3])\n",
    "print(\" Averaged base models score: {:.4f} ({:.4f})\\n\".format(score1.mean(), score1.std()))\n",
    "print(\" Averaged base models score: {:.4f} ({:.4f})\\n\".format(score2.mean(), score2.std()))\n",
    "print(\" Averaged base models score: {:.4f} ({:.4f})\\n\".format(score3.mean(), score3.std()))\n",
    "print(\" Averaged base models score: {:.4f} ({:.4f})\\n\".format(score4.mean(), score4.std()))"
   ]
  },
  {
   "cell_type": "code",
   "execution_count": 110,
   "metadata": {},
   "outputs": [
    {
     "name": "stderr",
     "output_type": "stream",
     "text": [
      "UsageError: %%capture is a cell magic, but the cell body is empty.\n"
     ]
    }
   ],
   "source": [
    "%%capture output"
   ]
  },
  {
   "cell_type": "markdown",
   "metadata": {},
   "source": [
    "### Stacking - Adding a meta-model\n",
    "In this approach, we add a meta-model on averaged base models and use the out-of-folds predictions of these base models to train our meta-model.\n",
    "\n",
    "The procedure, for the training part, may be described as follows:\n",
    "\n",
    "    1)Split the total training set into two disjoint sets (here train and .holdout )\n",
    "\n",
    "    2)Train several base models on the first part (train)\n",
    "\n",
    "    3)Test these base models on the second part (holdout)\n",
    "\n",
    "    4)Use the predictions from 3) (called out-of-folds predictions) as the inputs, and the correct responses (target variable) as the outputs to train a higher level learner called meta-model.\n",
    "\n",
    "The first three steps are done iteratively . If we take for example a 5-fold stacking , we first split the training data into 5 folds. Then we will do 5 iterations. In each iteration, we train every base model on 4 folds and predict on the remaining fold (holdout fold).\n",
    "\n",
    "So, we will be sure, after 5 iterations , that the entire data is used to get out-of-folds predictions that we will then use as new feature to train our meta-model in the step 4.\n",
    "\n",
    "For the prediction part , We average the predictions of all base models on the test data and used them as meta-features on which, the final prediction is done with the meta-model.\n",
    "\n",
    "credit: https://www.kaggle.com/serigne/stacked-regressions-top-4-on-leaderboard"
   ]
  },
  {
   "cell_type": "code",
   "execution_count": 111,
   "metadata": {},
   "outputs": [],
   "source": [
    "class StackingAveragedModels(BaseEstimator, RegressorMixin, TransformerMixin):\n",
    "    def __init__(self, base_models, meta_model, n_folds=5):\n",
    "        self.base_models = base_models\n",
    "        self.meta_model = meta_model\n",
    "        self.n_folds = n_folds\n",
    "   \n",
    "    # We again fit the data on clones of the original models\n",
    "    def fit(self, X, y):\n",
    "        self.base_models_ = [list() for x in self.base_models]\n",
    "        self.meta_model_ = clone(self.meta_model)\n",
    "        kfold = KFold(n_splits=self.n_folds, shuffle=True, random_state=156)\n",
    "        \n",
    "        # Train cloned base models then create out-of-fold predictions\n",
    "        # that are needed to train the cloned meta-model\n",
    "        out_of_fold_predictions = np.zeros((X.shape[0], len(self.base_models)))\n",
    "        for i, model in enumerate(self.base_models):\n",
    "            for train_index, holdout_index in kfold.split(X, y):\n",
    "                instance = clone(model)\n",
    "                self.base_models_[i].append(instance)\n",
    "                instance.fit(X[train_index], y[train_index])\n",
    "                y_pred = instance.predict(X[holdout_index])\n",
    "                out_of_fold_predictions[holdout_index, i] = y_pred\n",
    "                \n",
    "        # Now train the cloned  meta-model using the out-of-fold predictions as new feature\n",
    "        self.meta_model_.fit(out_of_fold_predictions, y)\n",
    "        return self\n",
    "   \n",
    "    #Do the predictions of all base models on the test data and use the averaged predictions as \n",
    "    #meta-features for the final prediction which is done by the meta-model\n",
    "    def predict(self, X):\n",
    "        meta_features = np.column_stack([\n",
    "            np.column_stack([model.predict(X) for model in base_models]).mean(axis=1)\n",
    "            for base_models in self.base_models_ ])\n",
    "        return self.meta_model_.predict(meta_features)"
   ]
  },
  {
   "cell_type": "code",
   "execution_count": 112,
   "metadata": {},
   "outputs": [
    {
     "data": {
      "text/plain": [
       "array([-2.522071  , -2.5224178 , -2.5226731 , ..., -1.2751691 ,\n",
       "        0.32881716,  0.42435336])"
      ]
     },
     "execution_count": 112,
     "metadata": {},
     "output_type": "execute_result"
    }
   ],
   "source": [
    "y_train.iloc[:,0].values"
   ]
  },
  {
   "cell_type": "code",
   "execution_count": 113,
   "metadata": {},
   "outputs": [
    {
     "name": "stdout",
     "output_type": "stream",
     "text": [
      " Stacking Averaged models score:  0.7593 (0.0793)\n",
      "\n",
      " Stacking Averaged models score:  0.4572 (0.0451)\n",
      "\n",
      " Stacking Averaged models score:  0.6163 (0.0524)\n",
      "\n",
      " Stacking Averaged models score:  0.6635 (0.0601)\n",
      "\n"
     ]
    }
   ],
   "source": [
    "stacked_averaged_models = StackingAveragedModels(base_models = (ENet_model, RForest_model,XGBmodel_base),\n",
    "                                                 meta_model = lasso_model)\n",
    "\n",
    "score1 = rmse_cv(stacked_averaged_models,X_train,y_train.iloc[:,0].values)\n",
    "score2 = rmse_cv(stacked_averaged_models,X_train,y_train.iloc[:,1].values)\n",
    "score3 = rmse_cv(stacked_averaged_models,X_train,y_train.iloc[:,2].values)\n",
    "score4 = rmse_cv(stacked_averaged_models,X_train,y_train.iloc[:,3].values)\n",
    "print(\" Stacking Averaged models score:  {:.4f} ({:.4f})\\n\".format(score1.mean(), score1.std()))\n",
    "print(\" Stacking Averaged models score:  {:.4f} ({:.4f})\\n\".format(score2.mean(), score2.std()))\n",
    "print(\" Stacking Averaged models score:  {:.4f} ({:.4f})\\n\".format(score3.mean(), score3.std()))\n",
    "print(\" Stacking Averaged models score:  {:.4f} ({:.4f})\\n\".format(score4.mean(), score4.std()))"
   ]
  },
  {
   "cell_type": "markdown",
   "metadata": {},
   "source": [
    "### Ensembling StackedRegressor, XGBoost and LightGBM"
   ]
  },
  {
   "cell_type": "code",
   "execution_count": 114,
   "metadata": {},
   "outputs": [],
   "source": [
    "#Evaluation function\n",
    "def get_rmse(y, y_pred):\n",
    "    return np.sqrt(mean_squared_error(y, y_pred))"
   ]
  },
  {
   "cell_type": "markdown",
   "metadata": {},
   "source": [
    "#### Stacked Output Regressor"
   ]
  },
  {
   "cell_type": "code",
   "execution_count": 117,
   "metadata": {},
   "outputs": [
    {
     "data": {
      "text/plain": [
       "StackingAveragedModels(base_models=(Pipeline(steps=[('robustscaler',\n",
       "                                                     RobustScaler()),\n",
       "                                                    ('elasticnet',\n",
       "                                                     ElasticNet(alpha=0.0005,\n",
       "                                                                l1_ratio=0.9,\n",
       "                                                                random_state=3))]),\n",
       "                                    RandomForestRegressor(max_depth=4,\n",
       "                                                          n_estimators=1000,\n",
       "                                                          n_jobs=-1,\n",
       "                                                          random_state=5),\n",
       "                                    XGBRegressor(base_score=None, booster=None,\n",
       "                                                 colsample_bylevel=None,\n",
       "                                                 colsample_bynode=None,\n",
       "                                                 colsample_bytree=None,\n",
       "                                                 gamma=0.0...\n",
       "                                                 missing=nan,\n",
       "                                                 monotone_constraints=None,\n",
       "                                                 n_estimators=500, n_jobs=None,\n",
       "                                                 nthread=8,\n",
       "                                                 num_parallel_tree=None,\n",
       "                                                 random_state=None,\n",
       "                                                 reg_alpha=None,\n",
       "                                                 reg_lambda=None,\n",
       "                                                 scale_pos_weight=None,\n",
       "                                                 subsample=None,\n",
       "                                                 tree_method=None,\n",
       "                                                 validate_parameters=None,\n",
       "                                                 verbosity=None)),\n",
       "                       meta_model=Pipeline(steps=[('robustscaler',\n",
       "                                                   RobustScaler()),\n",
       "                                                  ('lasso',\n",
       "                                                   Lasso(alpha=0.0005,\n",
       "                                                         random_state=1))]))"
      ]
     },
     "execution_count": 117,
     "metadata": {},
     "output_type": "execute_result"
    }
   ],
   "source": [
    "#Stacked Regressor for predicting pm temperature\n",
    "stacked_averaged_models_pm = StackingAveragedModels(base_models = (ENet_model, RForest_model,XGBmodel_base),\n",
    "                                                 meta_model = lasso_model)\n",
    "stacked_averaged_models_pm.fit(X_train.values, y_train.iloc[:,0].values)\n"
   ]
  },
  {
   "cell_type": "code",
   "execution_count": 119,
   "metadata": {},
   "outputs": [
    {
     "name": "stdout",
     "output_type": "stream",
     "text": [
      "Train score:  0.2665 \n",
      "\n",
      "Validation score:  0.2781 \n",
      "\n"
     ]
    }
   ],
   "source": [
    "stacked_train_pred_pm = stacked_averaged_models_pm.predict(X_train.values)\n",
    "stacked_val_pred_pm = stacked_averaged_models_pm.predict(X_val.values)\n",
    "#stacked_pred_pm = np.expm1(stacked_averaged_models_pm.predict(test_df))\n",
    "stacked_pred_pm = stacked_averaged_models_pm.predict(test_df.values)\n",
    "print(\"Train score:  {:.4f} \\n\".format(get_rmse(y_train.iloc[:,0].values, stacked_train_pred_pm)))\n",
    "print(\"Validation score:  {:.4f} \\n\".format(get_rmse(y_val.iloc[:,0].values, stacked_val_pred_pm)))"
   ]
  },
  {
   "cell_type": "code",
   "execution_count": 120,
   "metadata": {},
   "outputs": [
    {
     "name": "stdout",
     "output_type": "stream",
     "text": [
      "Train score:  0.1923 \n",
      "\n",
      "Validation score:  0.1728 \n",
      "\n"
     ]
    }
   ],
   "source": [
    "#Stacked Regressor for predicting Stator Yoke temperature\n",
    "stacked_averaged_models_sy = StackingAveragedModels(base_models = (ENet_model, RForest_model,XGBmodel_base),\n",
    "                                                 meta_model = lasso_model)\n",
    "stacked_averaged_models_sy.fit(X_train.values, y_train.iloc[:,1].values)\n",
    "stacked_train_pred_sy = stacked_averaged_models_sy.predict(X_train.values)\n",
    "stacked_val_pred_sy = stacked_averaged_models_sy.predict(X_val.values)\n",
    "stacked_pred_sy = stacked_averaged_models_sy.predict(test_df.values)\n",
    "print(\"Train score:  {:.4f} \\n\".format(get_rmse(y_train.iloc[:,1].values, stacked_train_pred_sy)))\n",
    "print(\"Validation score:  {:.4f} \\n\".format(get_rmse(y_val.iloc[:,1].values, stacked_val_pred_sy)))"
   ]
  },
  {
   "cell_type": "code",
   "execution_count": 121,
   "metadata": {},
   "outputs": [
    {
     "name": "stdout",
     "output_type": "stream",
     "text": [
      "Train score:  0.2586 \n",
      "\n",
      "Validation score:  0.2383 \n",
      "\n"
     ]
    }
   ],
   "source": [
    "#Stacked Regressor for predicting Stator tooth temperature\n",
    "stacked_averaged_models_st = StackingAveragedModels(base_models = (ENet_model, RForest_model,XGBmodel_base),\n",
    "                                                 meta_model = lasso_model)\n",
    "stacked_averaged_models_st.fit(X_train.values, y_train.iloc[:,2].values)\n",
    "stacked_train_pred_st = stacked_averaged_models_st.predict(X_train.values)\n",
    "stacked_val_pred_st = stacked_averaged_models_st.predict(X_val.values)\n",
    "stacked_pred_st = stacked_averaged_models_st.predict(test_df.values)\n",
    "print(\"Train score:  {:.4f} \\n\".format(get_rmse(y_train.iloc[:,2].values, stacked_train_pred_st)))\n",
    "print(\"Validation score:  {:.4f} \\n\".format(get_rmse(y_val.iloc[:,2].values, stacked_val_pred_st)))"
   ]
  },
  {
   "cell_type": "code",
   "execution_count": 122,
   "metadata": {},
   "outputs": [
    {
     "name": "stdout",
     "output_type": "stream",
     "text": [
      "Train score:  0.2904 \n",
      "\n",
      "Validation score:  0.2683 \n",
      "\n"
     ]
    }
   ],
   "source": [
    "#Stacked Regressor for predicting Stator winding temperature\n",
    "stacked_averaged_models_sw = StackingAveragedModels(base_models = (ENet_model, RForest_model,XGBmodel_base),\n",
    "                                                 meta_model = lasso_model)\n",
    "stacked_averaged_models_sw.fit(X_train.values, y_train.iloc[:,3].values)\n",
    "stacked_train_pred_sw = stacked_averaged_models_sw.predict(X_train.values)\n",
    "stacked_val_pred_sw = stacked_averaged_models_sw.predict(X_val.values)\n",
    "stacked_pred_sw = stacked_averaged_models_sw.predict(test_df.values)\n",
    "print(\"Train score:  {:.4f} \\n\".format(get_rmse(y_train.iloc[:,3].values, stacked_train_pred_sw)))\n",
    "print(\"Validation score:  {:.4f} \\n\".format(get_rmse(y_val.iloc[:,3].values, stacked_val_pred_sw)))"
   ]
  },
  {
   "cell_type": "markdown",
   "metadata": {},
   "source": [
    "#### XGBoost"
   ]
  },
  {
   "cell_type": "code",
   "execution_count": 123,
   "metadata": {},
   "outputs": [
    {
     "name": "stdout",
     "output_type": "stream",
     "text": [
      "Train score: :  0.4472 \n",
      "\n",
      "Validation score: :  0.6052 \n",
      "\n"
     ]
    }
   ],
   "source": [
    "#XGBoost for predicting pm temperature\n",
    "\n",
    "XGBReg_model_pm = xgb.XGBRegressor(colsample_bytree=0.4603, gamma=0.0468, \n",
    "                             learning_rate=0.05, max_depth=3, \n",
    "                             min_child_weight=1.7817, n_estimators=1000,\n",
    "                             reg_alpha=0.4640, reg_lambda=0.8571,\n",
    "                             subsample=0.5213,\n",
    "                             random_state =7, nthread = 8)\n",
    "\n",
    "XGBReg_model_pm.fit(X_train, y_train.iloc[:,0].values)\n",
    "xgb_train_pred_pm = XGBReg_model_pm.predict(X_train)\n",
    "xgb_val_pred_pm = XGBReg_model_pm.predict(X_val)\n",
    "xgb_pred_pm = XGBReg_model_pm.predict(test_df)\n",
    "print(\"Train score: :  {:.4f} \\n\".format(get_rmse(y_train.iloc[:,0].values, xgb_train_pred_pm)))\n",
    "print(\"Validation score: :  {:.4f} \\n\".format(get_rmse(y_val.iloc[:,0].values, xgb_val_pred_pm)))"
   ]
  },
  {
   "cell_type": "code",
   "execution_count": 124,
   "metadata": {},
   "outputs": [
    {
     "name": "stdout",
     "output_type": "stream",
     "text": [
      "Train score: :  0.2872 \n",
      "\n",
      "Validation score: :  0.3018 \n",
      "\n"
     ]
    }
   ],
   "source": [
    "#XGBoost for predicting Stator yoke temperature\n",
    "\n",
    "XGBReg_model_sy = xgb.XGBRegressor(colsample_bytree=0.4603, gamma=0.0468, \n",
    "                             learning_rate=0.05, max_depth=3, \n",
    "                             min_child_weight=1.7817, n_estimators=1000,\n",
    "                             reg_alpha=0.4640, reg_lambda=0.8571,\n",
    "                             subsample=0.5213,\n",
    "                             random_state =7, nthread = 8)\n",
    "\n",
    "XGBReg_model_sy.fit(X_train, y_train.iloc[:,1].values)\n",
    "xgb_train_pred_sy = XGBReg_model_sy.predict(X_train)\n",
    "xgb_val_pred_sy = XGBReg_model_sy.predict(X_val)\n",
    "xgb_pred_sy = XGBReg_model_sy.predict(test_df)\n",
    "print(\"Train score: :  {:.4f} \\n\".format(get_rmse(y_train.iloc[:,1].values, xgb_train_pred_sy)))\n",
    "print(\"Validation score: :  {:.4f} \\n\".format(get_rmse(y_val.iloc[:,1].values, xgb_val_pred_sy)))"
   ]
  },
  {
   "cell_type": "code",
   "execution_count": 125,
   "metadata": {},
   "outputs": [
    {
     "name": "stdout",
     "output_type": "stream",
     "text": [
      "Train score: :  0.3891 \n",
      "\n",
      "Validation score: :  0.4153 \n",
      "\n"
     ]
    }
   ],
   "source": [
    "#XGBoost for predicting Stator tooth temperature\n",
    "\n",
    "XGBReg_model_st = xgb.XGBRegressor(colsample_bytree=0.4603, gamma=0.0468, \n",
    "                             learning_rate=0.05, max_depth=3, \n",
    "                             min_child_weight=1.7817, n_estimators=1000,\n",
    "                             reg_alpha=0.4640, reg_lambda=0.8571,\n",
    "                             subsample=0.5213,\n",
    "                             random_state =7, nthread = 8)\n",
    "\n",
    "XGBReg_model_st.fit(X_train, y_train.iloc[:,2].values)\n",
    "xgb_train_pred_st = XGBReg_model_st.predict(X_train)\n",
    "xgb_val_pred_st = XGBReg_model_st.predict(X_val)\n",
    "xgb_pred_st = XGBReg_model_st.predict(test_df)\n",
    "print(\"Train score: :  {:.4f} \\n\".format(get_rmse(y_train.iloc[:,2].values, xgb_train_pred_st)))\n",
    "print(\"Validation score: :  {:.4f} \\n\".format(get_rmse(y_val.iloc[:,2].values, xgb_val_pred_st)))"
   ]
  },
  {
   "cell_type": "code",
   "execution_count": 126,
   "metadata": {},
   "outputs": [
    {
     "name": "stdout",
     "output_type": "stream",
     "text": [
      "Train score: :  0.4317 \n",
      "\n",
      "Validation score: :  0.4534 \n",
      "\n"
     ]
    }
   ],
   "source": [
    "#XGBoost for predicting Stator Winding temperature\n",
    "\n",
    "XGBReg_model_sw = xgb.XGBRegressor(colsample_bytree=0.4603, gamma=0.0468, \n",
    "                             learning_rate=0.05, max_depth=3, \n",
    "                             min_child_weight=1.7817, n_estimators=1000,\n",
    "                             reg_alpha=0.4640, reg_lambda=0.8571,\n",
    "                             subsample=0.5213,\n",
    "                             random_state =7, nthread = 8)\n",
    "\n",
    "XGBReg_model_sw.fit(X_train, y_train.iloc[:,3].values)\n",
    "xgb_train_pred_sw = XGBReg_model_sw.predict(X_train)\n",
    "xgb_val_pred_sw = XGBReg_model_sw.predict(X_val)\n",
    "xgb_pred_sw = XGBReg_model_sw.predict(test_df)\n",
    "print(\"Train score: :  {:.4f} \\n\".format(get_rmse(y_train.iloc[:,3].values, xgb_train_pred_sw)))\n",
    "print(\"Validation score: :  {:.4f} \\n\".format(get_rmse(y_val.iloc[:,3].values, xgb_val_pred_sw)))"
   ]
  },
  {
   "cell_type": "markdown",
   "metadata": {},
   "source": [
    "#### LightGBM"
   ]
  },
  {
   "cell_type": "code",
   "execution_count": 127,
   "metadata": {},
   "outputs": [
    {
     "name": "stdout",
     "output_type": "stream",
     "text": [
      "Train score: :  0.5431 \n",
      "\n",
      "Validation score: :  0.7670 \n",
      "\n"
     ]
    }
   ],
   "source": [
    "#LightGBM for predicting pm temperature\n",
    "\n",
    "lgbmr_model_pm = lgb.LGBMRegressor(objective='regression',num_leaves=5,\n",
    "                              learning_rate=0.05, n_estimators=720,\n",
    "                              max_bin = 55, bagging_fraction = 0.8,\n",
    "                              bagging_freq = 5, feature_fraction = 0.2319,\n",
    "                              feature_fraction_seed=9, bagging_seed=9,\n",
    "                              min_data_in_leaf =6, min_sum_hessian_in_leaf = 11)\n",
    "\n",
    "lgbmr_model_pm.fit(X_train, y_train.iloc[:,0].values)\n",
    "lgb_train_pred_pm = lgbmr_model_pm.predict(X_train)\n",
    "lgb_val_pred_pm = lgbmr_model_pm.predict(X_val)\n",
    "lgb_pred_pm = lgbmr_model_pm.predict(test_df)\n",
    "print(\"Train score: :  {:.4f} \\n\".format(get_rmse(y_train.iloc[:,0].values, lgb_train_pred_pm)))\n",
    "print(\"Validation score: :  {:.4f} \\n\".format(get_rmse(y_val.iloc[:,0].values, lgb_val_pred_pm)))"
   ]
  },
  {
   "cell_type": "code",
   "execution_count": 128,
   "metadata": {},
   "outputs": [
    {
     "name": "stdout",
     "output_type": "stream",
     "text": [
      "Train score: :  0.3266 \n",
      "\n",
      "Validation score: :  0.3322 \n",
      "\n"
     ]
    }
   ],
   "source": [
    "#LightGBM for predicting Stator Yoke temperature\n",
    "\n",
    "lgbmr_model_sy = lgb.LGBMRegressor(objective='regression',num_leaves=5,\n",
    "                              learning_rate=0.05, n_estimators=720,\n",
    "                              max_bin = 55, bagging_fraction = 0.8,\n",
    "                              bagging_freq = 5, feature_fraction = 0.2319,\n",
    "                              feature_fraction_seed=9, bagging_seed=9,\n",
    "                              min_data_in_leaf =6, min_sum_hessian_in_leaf = 11)\n",
    "\n",
    "lgbmr_model_sy.fit(X_train, y_train.iloc[:,1].values)\n",
    "lgb_train_pred_sy = lgbmr_model_sy.predict(X_train)\n",
    "lgb_val_pred_sy = lgbmr_model_sy.predict(X_val)\n",
    "lgb_pred_sy = lgbmr_model_sy.predict(test_df)\n",
    "print(\"Train score: :  {:.4f} \\n\".format(get_rmse(y_train.iloc[:,1].values, lgb_train_pred_sy)))\n",
    "print(\"Validation score: :  {:.4f} \\n\".format(get_rmse(y_val.iloc[:,1].values, lgb_val_pred_sy)))"
   ]
  },
  {
   "cell_type": "code",
   "execution_count": 129,
   "metadata": {},
   "outputs": [
    {
     "name": "stdout",
     "output_type": "stream",
     "text": [
      "Train score: :  0.4427 \n",
      "\n",
      "Validation score: :  0.4605 \n",
      "\n"
     ]
    }
   ],
   "source": [
    "#LightGBM for predicting Stator Tooth temperature\n",
    "\n",
    "lgbmr_model_st = lgb.LGBMRegressor(objective='regression',num_leaves=5,\n",
    "                              learning_rate=0.05, n_estimators=720,\n",
    "                              max_bin = 55, bagging_fraction = 0.8,\n",
    "                              bagging_freq = 5, feature_fraction = 0.2319,\n",
    "                              feature_fraction_seed=9, bagging_seed=9,\n",
    "                              min_data_in_leaf =6, min_sum_hessian_in_leaf = 11)\n",
    "\n",
    "lgbmr_model_st.fit(X_train, y_train.iloc[:,2].values)\n",
    "lgb_train_pred_st = lgbmr_model_st.predict(X_train)\n",
    "lgb_val_pred_st = lgbmr_model_st.predict(X_val)\n",
    "lgb_pred_st = lgbmr_model_st.predict(test_df)\n",
    "print(\"Train score: :  {:.4f} \\n\".format(get_rmse(y_train.iloc[:,2].values, lgb_train_pred_st)))\n",
    "print(\"Validation score: :  {:.4f} \\n\".format(get_rmse(y_val.iloc[:,2].values, lgb_val_pred_st)))"
   ]
  },
  {
   "cell_type": "code",
   "execution_count": 130,
   "metadata": {},
   "outputs": [
    {
     "name": "stdout",
     "output_type": "stream",
     "text": [
      "Train score: :  0.5431 \n",
      "\n",
      "Validation score: :  0.7670 \n",
      "\n"
     ]
    }
   ],
   "source": [
    "#LightGBM for predicting Stator winding temperature\n",
    "\n",
    "lgbmr_model_sw = lgb.LGBMRegressor(objective='regression',num_leaves=5,\n",
    "                              learning_rate=0.05, n_estimators=720,\n",
    "                              max_bin = 55, bagging_fraction = 0.8,\n",
    "                              bagging_freq = 5, feature_fraction = 0.2319,\n",
    "                              feature_fraction_seed=9, bagging_seed=9,\n",
    "                              min_data_in_leaf =6, min_sum_hessian_in_leaf = 11)\n",
    "\n",
    "lgbmr_model_sw.fit(X_train, y_train.iloc[:,0].values)\n",
    "lgb_train_pred_sw = lgbmr_model_sw.predict(X_train)\n",
    "lgb_val_pred_sw = lgbmr_model_sw.predict(X_val)\n",
    "lgb_pred_sw = lgbmr_model_sw.predict(test_df)\n",
    "print(\"Train score: :  {:.4f} \\n\".format(get_rmse(y_train.iloc[:,0].values, lgb_train_pred_sw)))\n",
    "print(\"Validation score: :  {:.4f} \\n\".format(get_rmse(y_val.iloc[:,0].values, lgb_val_pred_sw)))"
   ]
  },
  {
   "cell_type": "markdown",
   "metadata": {},
   "source": [
    "### RMSE on the entire Train data when averaging"
   ]
  },
  {
   "cell_type": "code",
   "execution_count": 131,
   "metadata": {},
   "outputs": [
    {
     "name": "stdout",
     "output_type": "stream",
     "text": [
      "RMSE score on train data - pm: \n",
      "\n",
      "0.3036041074758331\n",
      "RMSE score on train data - sy: \n",
      "\n",
      "0.21086189060569926\n",
      "RMSE score on train data - st: \n",
      "\n",
      "0.28382494193461055\n",
      "RMSE score on train data - sw: \n",
      "\n",
      "0.3279068676310127\n"
     ]
    }
   ],
   "source": [
    "'''RMSE on the entire Train data when averaging'''\n",
    "\n",
    "print('RMSE score on train data - pm: \\n')\n",
    "print(get_rmse(y_train.iloc[:,0].values,stacked_train_pred_pm*0.70 +\n",
    "               xgb_train_pred_pm*0.15 + lgb_train_pred_pm*0.15 ))\n",
    "\n",
    "print('RMSE score on train data - sy: \\n')\n",
    "print(get_rmse(y_train.iloc[:,1].values,stacked_train_pred_sy*0.70 +\n",
    "               xgb_train_pred_sy*0.15 + lgb_train_pred_sy*0.15 ))\n",
    "\n",
    "print('RMSE score on train data - st: \\n')\n",
    "print(get_rmse(y_train.iloc[:,2].values,stacked_train_pred_st*0.70 +\n",
    "               xgb_train_pred_st*0.15 + lgb_train_pred_st*0.15 ))\n",
    "\n",
    "print('RMSE score on train data - sw: \\n')\n",
    "print(get_rmse(y_train.iloc[:,3].values,stacked_train_pred_sw*0.70 +\n",
    "               xgb_train_pred_sw*0.15 + lgb_train_pred_sw*0.15 ))"
   ]
  },
  {
   "cell_type": "markdown",
   "metadata": {},
   "source": [
    "### Ensemble Prediction"
   ]
  },
  {
   "cell_type": "code",
   "execution_count": 132,
   "metadata": {},
   "outputs": [],
   "source": [
    "#Ensemble Prediction\n",
    "ensemble_pm = stacked_pred_pm*0.70 + xgb_pred_pm*0.15 + lgb_pred_pm*0.15\n",
    "ensemble_sy = stacked_pred_sy*0.70 + xgb_pred_sy*0.15 + lgb_pred_sy*0.15\n",
    "ensemble_st = stacked_pred_st*0.70 + xgb_pred_st*0.15 + lgb_pred_st*0.15\n",
    "ensemble_sw = stacked_pred_sw*0.70 + xgb_pred_sw*0.15 + lgb_pred_sw*0.15\n"
   ]
  },
  {
   "cell_type": "code",
   "execution_count": 133,
   "metadata": {},
   "outputs": [],
   "source": [
    "#RMSE\n",
    "RMSE_pm=get_rmse(test_true.iloc[:,0].values, ensemble_pm)\n",
    "RMSE_stator_yoke=get_rmse(test_true.iloc[:,1].values, ensemble_sy)\n",
    "RMSE_stator_tooth=get_rmse(test_true.iloc[:,2].values, ensemble_st)\n",
    "RMSE_stator_winding=get_rmse(test_true.iloc[:,3].values, ensemble_sw)\n"
   ]
  },
  {
   "cell_type": "markdown",
   "metadata": {},
   "source": [
    "### Submission"
   ]
  },
  {
   "cell_type": "code",
   "execution_count": 134,
   "metadata": {},
   "outputs": [],
   "source": [
    "#Prediction\n",
    "sub = pd.DataFrame()\n",
    "sub['pm_predicted'] = ensemble_pm\n",
    "sub['stator_yoke_predicted'] = ensemble_sy\n",
    "sub['stator_tooth_predicted'] = ensemble_st\n",
    "sub['stator_winding_predicted'] = ensemble_sw\n",
    "sub.to_csv('submission.csv',index=False)"
   ]
  },
  {
   "cell_type": "code",
   "execution_count": 135,
   "metadata": {},
   "outputs": [],
   "source": [
    "final_rmse = pd.DataFrame()\n",
    "final_rmse['RMSE_pm'] = RMSE_pm\n",
    "final_rmse['RMSE_stator_yoke'] = RMSE_stator_yoke\n",
    "final_rmse['RMSE_stator_tooth'] = RMSE_stator_tooth\n",
    "final_rmse['RMSE_stator_winding'] = RMSE_stator_winding\n",
    "final_rmse.to_csv('rmse_submission.csv',index=False)"
   ]
  },
  {
   "cell_type": "code",
   "execution_count": 136,
   "metadata": {},
   "outputs": [
    {
     "name": "stdout",
     "output_type": "stream",
     "text": [
      "RMSE_pm:  0.35153019984326317\n",
      "RMSE_stator_yoke:  0.5084295604137152\n",
      "RMSE_stator_tooth:  0.4118579533174224\n",
      "RMSE_stator_winding:  0.3200446434628302\n"
     ]
    }
   ],
   "source": [
    "print(\"RMSE_pm: \",RMSE_pm)\n",
    "print(\"RMSE_stator_yoke: \",RMSE_stator_yoke)\n",
    "print(\"RMSE_stator_tooth: \",RMSE_stator_tooth)\n",
    "print(\"RMSE_stator_winding: \",RMSE_stator_winding)"
   ]
  },
  {
   "cell_type": "code",
   "execution_count": null,
   "metadata": {},
   "outputs": [],
   "source": []
  }
 ],
 "metadata": {
  "kernelspec": {
   "display_name": "Python 3",
   "language": "python",
   "name": "python3"
  },
  "language_info": {
   "codemirror_mode": {
    "name": "ipython",
    "version": 3
   },
   "file_extension": ".py",
   "mimetype": "text/x-python",
   "name": "python",
   "nbconvert_exporter": "python",
   "pygments_lexer": "ipython3",
   "version": "3.7.6"
  }
 },
 "nbformat": 4,
 "nbformat_minor": 4
}
